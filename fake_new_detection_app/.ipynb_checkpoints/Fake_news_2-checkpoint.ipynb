{
 "cells": [
  {
   "cell_type": "markdown",
   "metadata": {
    "id": "2C3D0IlEKAQt"
   },
   "source": [
    "Tasks:\n",
    "\n",
    "\n",
    "1. Data Preprocessing of text\n",
    "2. Exploratory Data Analysis\n",
    "3. Visualization\n",
    "4. Model Selection and Evaluation\n",
    "5. Data Pipeline\n",
    "6. Model Deployment\n",
    "7. Consolidation and Discussion"
   ]
  },
  {
   "cell_type": "markdown",
   "metadata": {
    "id": "5ehL3zMgMy7F"
   },
   "source": [
    "### Data Preprocessing"
   ]
  },
  {
   "cell_type": "code",
   "execution_count": 1,
   "metadata": {
    "execution": {
     "iopub.execute_input": "2021-11-09T21:30:00.749967Z",
     "iopub.status.busy": "2021-11-09T21:30:00.749632Z",
     "iopub.status.idle": "2021-11-09T21:30:12.089111Z",
     "shell.execute_reply": "2021-11-09T21:30:12.088366Z",
     "shell.execute_reply.started": "2021-11-09T21:30:00.749885Z"
    },
    "id": "dhHm5Cv0OMNw"
   },
   "outputs": [],
   "source": [
    "import numpy as np\n",
    "import pandas as pd\n",
    "import matplotlib.pyplot as plt\n",
    "import seaborn as sns\n",
    "import spacy\n",
    "import nltk\n",
    "import re\n",
    "import string\n",
    "from wordcloud import WordCloud, STOPWORDS\n",
    "from spacy import displacy\n",
    "from pathlib import Path\n",
    "from textblob import TextBlob\n",
    "from tqdm import tqdm, tqdm_notebook\n",
    "import pickle\n",
    "\n",
    "from sklearn.model_selection import train_test_split\n",
    "from sklearn.feature_extraction.text import TfidfVectorizer, CountVectorizer\n",
    "from sklearn.naive_bayes import MultinomialNB\n",
    "from sklearn.linear_model import LogisticRegression\n",
    "from sklearn.ensemble import RandomForestClassifier, GradientBoostingClassifier\n",
    "from sklearn.pipeline import make_pipeline\n",
    "from sklearn.preprocessing import FunctionTransformer\n",
    "from sklearn.metrics import confusion_matrix, f1_score, classification_report\n",
    "\n",
    "import io\n",
    "import os\n",
    "import shutil\n",
    "import zipfile\n",
    "import urllib\n",
    "import tensorflow as tf\n",
    "\n",
    "from tensorflow.keras import Sequential\n",
    "from tensorflow.keras.layers import Dense, Embedding, GlobalAveragePooling1D, LSTM, Dropout, Bidirectional, Input, Conv1D, MaxPooling1D\n",
    "from tensorflow.keras.layers import TextVectorization\n",
    "from keras.preprocessing.text import Tokenizer\n",
    "from keras.preprocessing.sequence import pad_sequences"
   ]
  },
  {
   "cell_type": "code",
   "execution_count": 2,
   "metadata": {
    "execution": {
     "iopub.execute_input": "2021-11-09T21:30:12.092514Z",
     "iopub.status.busy": "2021-11-09T21:30:12.090701Z",
     "iopub.status.idle": "2021-11-09T21:30:13.643403Z",
     "shell.execute_reply": "2021-11-09T21:30:13.642681Z",
     "shell.execute_reply.started": "2021-11-09T21:30:12.092481Z"
    },
    "id": "-xffhFF3JvIV",
    "outputId": "b477fffe-bc1d-47cf-a44d-7a385400e78a"
   },
   "outputs": [],
   "source": [
    "fake_news = pd.read_csv('../input/fake-and-real-news-dataset/Fake.csv')\n",
    "\n",
    "fake_news.head()"
   ]
  },
  {
   "cell_type": "code",
   "execution_count": 3,
   "metadata": {
    "execution": {
     "iopub.execute_input": "2021-11-09T21:30:13.644986Z",
     "iopub.status.busy": "2021-11-09T21:30:13.644746Z",
     "iopub.status.idle": "2021-11-09T21:30:13.676573Z",
     "shell.execute_reply": "2021-11-09T21:30:13.675880Z",
     "shell.execute_reply.started": "2021-11-09T21:30:13.644952Z"
    },
    "id": "gXnJ6FnPFUci",
    "outputId": "52041b19-0354-464a-d6f8-9be30c9a7917"
   },
   "outputs": [],
   "source": [
    "fake_news.info()"
   ]
  },
  {
   "cell_type": "code",
   "execution_count": 4,
   "metadata": {
    "execution": {
     "iopub.execute_input": "2021-11-09T21:30:13.679774Z",
     "iopub.status.busy": "2021-11-09T21:30:13.679494Z",
     "iopub.status.idle": "2021-11-09T21:30:13.685161Z",
     "shell.execute_reply": "2021-11-09T21:30:13.684326Z",
     "shell.execute_reply.started": "2021-11-09T21:30:13.679738Z"
    },
    "id": "XRDPe5d5MBaG"
   },
   "outputs": [],
   "source": [
    "def operate_on_word(text):\n",
    "    text = re.sub('\\w*\\d\\w*', '', \n",
    "                re.sub('\\n', '',\n",
    "              re.sub('[%s]' % re.escape(string.punctuation), '', \n",
    "                re.sub('<.*?>+', '', \n",
    "                       re.sub('https?://\\S+|www\\.\\S+', '', \n",
    "                              re.sub(\"\\\\W\", ' ', \n",
    "                                     re.sub('\\[.*?\\]', '', text.lower())))))))\n",
    "    return text"
   ]
  },
  {
   "cell_type": "code",
   "execution_count": 5,
   "metadata": {
    "execution": {
     "iopub.execute_input": "2021-11-09T21:30:13.687549Z",
     "iopub.status.busy": "2021-11-09T21:30:13.686977Z",
     "iopub.status.idle": "2021-11-09T21:30:31.169119Z",
     "shell.execute_reply": "2021-11-09T21:30:31.168462Z",
     "shell.execute_reply.started": "2021-11-09T21:30:13.687512Z"
    },
    "id": "0ekZYKiNJyh1",
    "outputId": "8ce21455-c2c2-4fc4-f276-c9c4ebbfb8ca"
   },
   "outputs": [],
   "source": [
    "fake_corpus = ' '.join(fake_news.text.apply(operate_on_word))\n",
    "\n",
    "len(fake_corpus)"
   ]
  },
  {
   "cell_type": "code",
   "execution_count": null,
   "metadata": {},
   "outputs": [],
   "source": []
  },
  {
   "cell_type": "code",
   "execution_count": 6,
   "metadata": {
    "execution": {
     "iopub.execute_input": "2021-11-09T21:30:31.170751Z",
     "iopub.status.busy": "2021-11-09T21:30:31.170504Z",
     "iopub.status.idle": "2021-11-09T21:30:31.174809Z",
     "shell.execute_reply": "2021-11-09T21:30:31.173863Z",
     "shell.execute_reply.started": "2021-11-09T21:30:31.170716Z"
    },
    "id": "X8bpq3JbOile"
   },
   "outputs": [],
   "source": [
    "first_fake_news = fake_news['text'][0]"
   ]
  },
  {
   "cell_type": "code",
   "execution_count": 7,
   "metadata": {
    "execution": {
     "iopub.execute_input": "2021-11-09T21:30:31.176797Z",
     "iopub.status.busy": "2021-11-09T21:30:31.176221Z",
     "iopub.status.idle": "2021-11-09T21:31:04.849347Z",
     "shell.execute_reply": "2021-11-09T21:31:04.848730Z",
     "shell.execute_reply.started": "2021-11-09T21:30:31.176759Z"
    },
    "id": "zjDl6cEgQM2V",
    "outputId": "f95a09d7-30ed-422d-c9e9-8bc96cb761fe"
   },
   "outputs": [],
   "source": [
    "# Generate WORDCLOUD\n",
    "\n",
    "stopwords = set(STOPWORDS)\n",
    "cloud_news = WordCloud(width=800,\n",
    "                       height=800,\n",
    "                       stopwords=stopwords,\n",
    "                       background_color='white',\n",
    "                       min_font_size=10).generate(fake_corpus)\n",
    "\n",
    "fig, ax = plt.subplots(figsize=(12, 8))\n",
    "ax.imshow(cloud_news, interpolation='bilinear')\n",
    "ax.axis('off')\n",
    "plt.show()\n",
    "# fig.savefig('WordCloud.png')"
   ]
  },
  {
   "cell_type": "code",
   "execution_count": 8,
   "metadata": {
    "execution": {
     "iopub.execute_input": "2021-11-09T21:31:04.850564Z",
     "iopub.status.busy": "2021-11-09T21:31:04.850351Z",
     "iopub.status.idle": "2021-11-09T21:31:05.538068Z",
     "shell.execute_reply": "2021-11-09T21:31:05.537190Z",
     "shell.execute_reply.started": "2021-11-09T21:31:04.850536Z"
    },
    "id": "bHoKmNpOWYZX",
    "outputId": "4242a188-b76b-48a0-fb95-1f1659052fdf"
   },
   "outputs": [],
   "source": [
    "nlp = spacy.load('en_core_web_sm')\n",
    "title_doc1 = nlp('NLP for Fake News Detection')\n",
    "# sentences_spans = list(doc.sents)\n",
    "\n",
    "displacy.render(title_doc1, style='dep', jupyter=True)\n",
    "\n",
    "# output_path = Path(\"dependency_plot.svg\") # you can keep there only \"dependency_plot.svg\" if you want to save it in the same folder where you run the script \n",
    "# output_path.open(\"w\", encoding=\"utf-8\").write(svg)"
   ]
  },
  {
   "cell_type": "code",
   "execution_count": 9,
   "metadata": {
    "execution": {
     "iopub.execute_input": "2021-11-09T21:31:05.540342Z",
     "iopub.status.busy": "2021-11-09T21:31:05.540053Z",
     "iopub.status.idle": "2021-11-09T21:31:06.907542Z",
     "shell.execute_reply": "2021-11-09T21:31:06.906860Z",
     "shell.execute_reply.started": "2021-11-09T21:31:05.540303Z"
    },
    "id": "EcjmJqJmRH-C",
    "outputId": "9b4b8dd4-f5a7-440d-ceec-27916ae97027"
   },
   "outputs": [],
   "source": [
    "genuine_news = pd.read_csv('../input/fake-and-real-news-dataset/True.csv')\n",
    "\n",
    "genuine_news.head()"
   ]
  },
  {
   "cell_type": "code",
   "execution_count": 10,
   "metadata": {
    "execution": {
     "iopub.execute_input": "2021-11-09T21:31:06.910890Z",
     "iopub.status.busy": "2021-11-09T21:31:06.910694Z",
     "iopub.status.idle": "2021-11-09T21:31:06.942026Z",
     "shell.execute_reply": "2021-11-09T21:31:06.941282Z",
     "shell.execute_reply.started": "2021-11-09T21:31:06.910866Z"
    },
    "id": "5ltXR8VGpiKl",
    "outputId": "f49881a6-ec10-4491-e305-12d4eccddd89"
   },
   "outputs": [],
   "source": [
    "# Names Entity Visualization\n",
    "\n",
    "# genuine_news.text[(478 < genuine_news.text.apply(len)) & (genuine_news.text.apply(len) < 480)].index\n",
    "\n",
    "indices = [484, 968,  1257,  3799, 7603, 7628,  9147, 12196, 12735,\n",
    "            16536, 17528, 19804, 20393]\n",
    "displacy.render(nlp(genuine_news.text[np.random.choice(indices, 1)[0]]), style='ent', jupyter=True)\n",
    "\n",
    "# output_path = Path(\"named_entity_plot.svg\")  \n",
    "# output_path.open(\"w\", encoding=\"utf-8\").write(svg)"
   ]
  },
  {
   "cell_type": "code",
   "execution_count": 11,
   "metadata": {
    "execution": {
     "iopub.execute_input": "2021-11-09T21:31:06.943621Z",
     "iopub.status.busy": "2021-11-09T21:31:06.943312Z",
     "iopub.status.idle": "2021-11-09T21:31:06.967845Z",
     "shell.execute_reply": "2021-11-09T21:31:06.967111Z",
     "shell.execute_reply.started": "2021-11-09T21:31:06.943585Z"
    },
    "id": "eArM2LFMILzL"
   },
   "outputs": [],
   "source": [
    "fake_news['genuine'] = 0\n",
    "\n",
    "fake_news = fake_news.drop(fake_news[fake_news['text'] == ' '].index)\n",
    "\n",
    "print(len(fake_news))\n",
    "\n",
    "fake_deploy = fake_news.sample(n=5)\n",
    "\n",
    "print(fake_deploy.head())\n",
    "\n",
    "fake_news = fake_news.drop(fake_deploy.index)\n",
    "\n",
    "# fake_news['text'] =fake_news.text.apply(operate_on_word)\n",
    "# fake_news['title'] =fake_news.title.apply(operate_on_word)\n",
    "\n",
    "print(len(fake_news))\n",
    "\n",
    "part_1 = fake_news[['title', 'text', 'genuine']]"
   ]
  },
  {
   "cell_type": "code",
   "execution_count": 12,
   "metadata": {
    "execution": {
     "iopub.execute_input": "2021-11-09T21:31:06.969342Z",
     "iopub.status.busy": "2021-11-09T21:31:06.969063Z",
     "iopub.status.idle": "2021-11-09T21:31:06.989420Z",
     "shell.execute_reply": "2021-11-09T21:31:06.988642Z",
     "shell.execute_reply.started": "2021-11-09T21:31:06.969308Z"
    },
    "id": "GOa4Z896RaQS"
   },
   "outputs": [],
   "source": [
    "genuine_news['genuine'] = 1\n",
    "\n",
    "genuine_news = genuine_news.drop(genuine_news[genuine_news['text'] == ' '].index)\n",
    "\n",
    "print(len(genuine_news))\n",
    "\n",
    "genuine_deploy = genuine_news.sample(n=5)\n",
    "\n",
    "genuine_news = genuine_news.drop(genuine_deploy.index)\n",
    "\n",
    "# genuine_news['text'] = genuine_news.text.apply(operate_on_word)\n",
    "# genuine_news['title'] = genuine_news.title.apply(operate_on_word)\n",
    "\n",
    "print(len(genuine_news))\n",
    "\n",
    "part_2 = genuine_news[['title', 'text', 'genuine']]"
   ]
  },
  {
   "cell_type": "code",
   "execution_count": 13,
   "metadata": {
    "execution": {
     "iopub.execute_input": "2021-11-09T21:31:06.990828Z",
     "iopub.status.busy": "2021-11-09T21:31:06.990509Z",
     "iopub.status.idle": "2021-11-09T21:31:07.004990Z",
     "shell.execute_reply": "2021-11-09T21:31:07.003777Z",
     "shell.execute_reply.started": "2021-11-09T21:31:06.990792Z"
    },
    "id": "o4w69p-iSCQp",
    "outputId": "a3a79045-d36e-4c40-fa4e-567cabb39529"
   },
   "outputs": [],
   "source": [
    "all_parts = pd.concat([part_1, part_2], ignore_index=True, axis = 0)\n",
    "\n",
    "all_parts.head()"
   ]
  },
  {
   "cell_type": "code",
   "execution_count": 14,
   "metadata": {
    "execution": {
     "iopub.execute_input": "2021-11-09T21:31:07.006485Z",
     "iopub.status.busy": "2021-11-09T21:31:07.006225Z",
     "iopub.status.idle": "2021-11-09T21:31:07.018563Z",
     "shell.execute_reply": "2021-11-09T21:31:07.017619Z",
     "shell.execute_reply.started": "2021-11-09T21:31:07.006453Z"
    },
    "id": "pl6rRkRPScpn",
    "outputId": "e7f803f2-22ca-44de-92b5-8f0325a72893"
   },
   "outputs": [],
   "source": [
    "counts_df = all_parts['genuine'].value_counts().to_frame()\n",
    "\n",
    "counts_df.index = ['Fake', 'Genuine']\n",
    "counts_df.columns = ['Count']\n",
    "\n",
    "counts_df.head()"
   ]
  },
  {
   "cell_type": "code",
   "execution_count": 15,
   "metadata": {
    "execution": {
     "iopub.execute_input": "2021-11-09T21:31:07.020089Z",
     "iopub.status.busy": "2021-11-09T21:31:07.019881Z",
     "iopub.status.idle": "2021-11-09T21:31:07.041936Z",
     "shell.execute_reply": "2021-11-09T21:31:07.041161Z",
     "shell.execute_reply.started": "2021-11-09T21:31:07.020066Z"
    },
    "id": "0_nEiBlLSoSr",
    "outputId": "63db6ecc-dcc8-410b-ea39-30843f9a3d27"
   },
   "outputs": [],
   "source": [
    "# Shuffle Dataset\n",
    "df = all_parts.sample(frac=1).reset_index(drop=True)\n",
    "\n",
    "df.head()"
   ]
  },
  {
   "cell_type": "code",
   "execution_count": 16,
   "metadata": {
    "execution": {
     "iopub.execute_input": "2021-11-09T21:31:07.044370Z",
     "iopub.status.busy": "2021-11-09T21:31:07.043045Z",
     "iopub.status.idle": "2021-11-09T21:31:07.051349Z",
     "shell.execute_reply": "2021-11-09T21:31:07.050544Z",
     "shell.execute_reply.started": "2021-11-09T21:31:07.044332Z"
    },
    "id": "KJMgXmdDThQF",
    "outputId": "dcc23f9d-71e2-4930-9f6b-3b1297766a7a"
   },
   "outputs": [],
   "source": [
    "df.genuine.value_counts()"
   ]
  },
  {
   "cell_type": "code",
   "execution_count": 17,
   "metadata": {
    "execution": {
     "iopub.execute_input": "2021-11-09T21:31:07.053118Z",
     "iopub.status.busy": "2021-11-09T21:31:07.052687Z",
     "iopub.status.idle": "2021-11-09T21:33:17.028389Z",
     "shell.execute_reply": "2021-11-09T21:33:17.027621Z",
     "shell.execute_reply.started": "2021-11-09T21:31:07.053082Z"
    },
    "id": "CE1vBhyLpgNB"
   },
   "outputs": [],
   "source": [
    "# Feature Engineering\n",
    "\n",
    "df['polarity'] = df['text'].map(lambda text: TextBlob(str(text)).sentiment.polarity)\n",
    "df['text_len'] = df['text'].astype(str).map(len)\n",
    "df['text_word_count'] = df['text'].map(lambda x: len(str(x).split()))\n",
    "df['title_len'] = df['title'].astype(str).map(len)\n",
    "df['title_word_count'] = df['title'].map(lambda x: len(str(x).split()))"
   ]
  },
  {
   "cell_type": "code",
   "execution_count": 18,
   "metadata": {
    "execution": {
     "iopub.execute_input": "2021-11-09T21:33:17.029834Z",
     "iopub.status.busy": "2021-11-09T21:33:17.029576Z",
     "iopub.status.idle": "2021-11-09T21:33:17.034493Z",
     "shell.execute_reply": "2021-11-09T21:33:17.033797Z",
     "shell.execute_reply.started": "2021-11-09T21:33:17.029783Z"
    },
    "id": "vCqN2skX0c1Q"
   },
   "outputs": [],
   "source": [
    "# df2.to_csv('/content/drive/MyDrive/News_NLP/news_cleaned_with_feats.csv',index=False)"
   ]
  },
  {
   "cell_type": "code",
   "execution_count": 19,
   "metadata": {
    "execution": {
     "iopub.execute_input": "2021-11-09T21:33:17.036108Z",
     "iopub.status.busy": "2021-11-09T21:33:17.035626Z",
     "iopub.status.idle": "2021-11-09T21:33:17.050356Z",
     "shell.execute_reply": "2021-11-09T21:33:17.049671Z",
     "shell.execute_reply.started": "2021-11-09T21:33:17.036067Z"
    },
    "id": "wfrMONSUpi3Y"
   },
   "outputs": [],
   "source": [
    "def get_top_n_words(corpus, name='text', n=None):\n",
    "    corpus_fake = corpus[df['genuine'] == 1].astype(str)\n",
    "    corpus_true = corpus[df['genuine'] == 0].astype(str)\n",
    "\n",
    "    vec = CountVectorizer(stop_words = 'english').fit(corpus_fake)\n",
    "    bag_of_words = vec.transform(corpus_fake)\n",
    "    sum_words = bag_of_words.sum(axis=0) \n",
    "    words_freq_fake = [(word, sum_words[0, idx]) for word, idx in vec.vocabulary_.items()]\n",
    "    words_freq_fake =sorted(words_freq_fake, key = lambda x: x[1], reverse=True)\n",
    "\n",
    "    vec = CountVectorizer(stop_words = 'english').fit(corpus_true)\n",
    "    bag_of_words = vec.transform(corpus_true)\n",
    "    sum_words = bag_of_words.sum(axis=0) \n",
    "    words_freq_true = [(word, sum_words[0, idx]) for word, idx in vec.vocabulary_.items()]\n",
    "    words_freq_true =sorted(words_freq_true, key = lambda x: x[1], reverse=True)\n",
    "\n",
    "    df_fake = pd.DataFrame(words_freq_fake[:n],columns = ['text', 'count'])\n",
    "    df_true = pd.DataFrame(words_freq_true[:n],columns = ['text', 'count'])\n",
    "\n",
    "    fig, (ax1, ax2) = plt.subplots(1,2,figsize=(20,8))\n",
    "    ax1.bar(df_fake['text'], df_fake['count'])\n",
    "    ax1.set_xticklabels(df_fake['text'])\n",
    "    ax1.set(xlabel='top 10 most frequent terms for fake news', ylabel='count')\n",
    "    ax2.bar(df_true['text'], df_true['count'])\n",
    "    ax2.set_xticklabels(df_true['text'])\n",
    "    ax2.set(xlabel='top 10 most frequent terms for true news', ylabel='count')\n",
    "    plt.suptitle('Comparision between the top 10 most frequent terms (fake/true)')\n",
    "\n",
    "    fig.savefig(f'most_freq_{name}.png')\n"
   ]
  },
  {
   "cell_type": "code",
   "execution_count": 20,
   "metadata": {
    "execution": {
     "iopub.execute_input": "2021-11-09T21:33:17.052387Z",
     "iopub.status.busy": "2021-11-09T21:33:17.051495Z",
     "iopub.status.idle": "2021-11-09T21:34:23.656769Z",
     "shell.execute_reply": "2021-11-09T21:34:23.656099Z",
     "shell.execute_reply.started": "2021-11-09T21:33:17.052353Z"
    },
    "id": "VI73nzv2xllR",
    "outputId": "ed73365a-e9b8-4ad3-e504-6825f9b5509b"
   },
   "outputs": [],
   "source": [
    "df2 = df.copy(deep=True)\n",
    "\n",
    "df2['text'] = df2.text.apply(operate_on_word)\n",
    "df2['title'] = df2.title.apply(operate_on_word)\n",
    "\n",
    "get_top_n_words(corpus=df2['text'], name='text', n=10)"
   ]
  },
  {
   "cell_type": "code",
   "execution_count": 21,
   "metadata": {
    "execution": {
     "iopub.execute_input": "2021-11-09T21:34:23.658695Z",
     "iopub.status.busy": "2021-11-09T21:34:23.657896Z",
     "iopub.status.idle": "2021-11-09T21:34:25.720014Z",
     "shell.execute_reply": "2021-11-09T21:34:25.719209Z",
     "shell.execute_reply.started": "2021-11-09T21:34:23.658656Z"
    },
    "id": "MqsMPnM_xloF",
    "outputId": "7b92f57f-b02d-4ec0-b64f-9d375833e3b8"
   },
   "outputs": [],
   "source": [
    "get_top_n_words(corpus=df2['title'], name='title', n=10)"
   ]
  },
  {
   "cell_type": "markdown",
   "metadata": {
    "id": "tpjRO7IW10TG"
   },
   "source": [
    "#### Based on the comparison between the top 10 frequent words in titles and news text, we can infer that both fake and true news is dominated by news relating to politics and more specifically, the subject being heavily related to American politics is shared between true and fake news. This would result in the model been biased to classifying news that relates to only American Politics and probably of that time frame. To mitigate this bias more recent data and diverse news data would be needed"
   ]
  },
  {
   "cell_type": "code",
   "execution_count": 22,
   "metadata": {
    "execution": {
     "iopub.execute_input": "2021-11-09T21:34:25.726499Z",
     "iopub.status.busy": "2021-11-09T21:34:25.724350Z",
     "iopub.status.idle": "2021-11-09T21:34:25.797575Z",
     "shell.execute_reply": "2021-11-09T21:34:25.796935Z",
     "shell.execute_reply.started": "2021-11-09T21:34:25.726462Z"
    },
    "id": "YuTSiuomUVku",
    "outputId": "adce0750-e4d8-48ad-d586-fe17ee3d38a6"
   },
   "outputs": [],
   "source": [
    "X = df['text']\n",
    "y = df['genuine']\n",
    "\n",
    "X_train_all, X_test, y_train_all, y_test = train_test_split(X, y, test_size=0.05, stratify=y)\n",
    "\n",
    "X_train, X_valid, y_train, y_valid = train_test_split(X_train_all, y_train_all, test_size=0.2)\n",
    "\n",
    "print(X_train.shape[0], X_valid.shape[0], X_test.shape[0])"
   ]
  },
  {
   "cell_type": "code",
   "execution_count": 23,
   "metadata": {
    "execution": {
     "iopub.execute_input": "2021-11-09T21:34:25.803135Z",
     "iopub.status.busy": "2021-11-09T21:34:25.801266Z",
     "iopub.status.idle": "2021-11-09T21:34:25.811635Z",
     "shell.execute_reply": "2021-11-09T21:34:25.811016Z",
     "shell.execute_reply.started": "2021-11-09T21:34:25.803098Z"
    }
   },
   "outputs": [],
   "source": [
    "def transform_word(texts):\n",
    "    texts_new = []\n",
    "    for text in texts:\n",
    "        text = re.sub('\\w*\\d\\w*', '', \n",
    "                  re.sub('\\n', '',\n",
    "                re.sub('[%s]' % re.escape(string.punctuation), '', \n",
    "                  re.sub('<.*?>+', '', \n",
    "                        re.sub('https?://\\S+|www\\.\\S+', '', \n",
    "                                re.sub(\"\\\\W\", ' ', \n",
    "                                      re.sub('\\[.*?\\]', '', text.lower())))))))\n",
    "        texts_new.append(text)\n",
    "    return np.array(texts_new)"
   ]
  },
  {
   "cell_type": "code",
   "execution_count": 24,
   "metadata": {
    "execution": {
     "iopub.execute_input": "2021-11-09T21:34:25.818753Z",
     "iopub.status.busy": "2021-11-09T21:34:25.816144Z",
     "iopub.status.idle": "2021-11-09T21:34:25.826612Z",
     "shell.execute_reply": "2021-11-09T21:34:25.825752Z",
     "shell.execute_reply.started": "2021-11-09T21:34:25.818717Z"
    }
   },
   "outputs": [],
   "source": [
    "def load_classifier(clf, X_train, X_valid, y_train, y_valid):\n",
    "    pipe_clf = make_pipeline(FunctionTransformer(transform_word), \n",
    "                             TfidfVectorizer(ngram_range=(1, 2), max_features=5000),\n",
    "                             clf)\n",
    "    pipe_clf.fit(X_train, y_train)\n",
    "    y_pred = pipe_clf.predict(X_valid)\n",
    "    probas = pipe_clf.predict_proba(X_valid)\n",
    "    \n",
    "    return pipe_clf, y_pred, probas"
   ]
  },
  {
   "cell_type": "code",
   "execution_count": 25,
   "metadata": {
    "execution": {
     "iopub.execute_input": "2021-11-09T21:34:25.833588Z",
     "iopub.status.busy": "2021-11-09T21:34:25.831099Z",
     "iopub.status.idle": "2021-11-09T21:48:53.526822Z",
     "shell.execute_reply": "2021-11-09T21:48:53.525982Z",
     "shell.execute_reply.started": "2021-11-09T21:34:25.833553Z"
    }
   },
   "outputs": [],
   "source": [
    "classifiers = [MultinomialNB(), LogisticRegression(),\n",
    "               RandomForestClassifier(), GradientBoostingClassifier()]\n",
    "\n",
    "model_list, preds_list, probas_list = [], [], []\n",
    "\n",
    "for clf in classifiers:\n",
    "    model, pred, probas = load_classifier(clf, X_train_all, X_test, y_train_all, y_test)\n",
    "    model_list.append(model)\n",
    "    preds_list.append(pred)\n",
    "    probas_list.append(probas)\n",
    "    \n"
   ]
  },
  {
   "cell_type": "code",
   "execution_count": 26,
   "metadata": {
    "execution": {
     "iopub.execute_input": "2021-11-09T21:48:53.528756Z",
     "iopub.status.busy": "2021-11-09T21:48:53.528513Z",
     "iopub.status.idle": "2021-11-09T21:48:53.538040Z",
     "shell.execute_reply": "2021-11-09T21:48:53.537190Z",
     "shell.execute_reply.started": "2021-11-09T21:48:53.528721Z"
    },
    "id": "xKLV0Wkn5TmX"
   },
   "outputs": [],
   "source": [
    "def plot_confusion_matrices(model_list, preds_list, y_valid):\n",
    "    fig, ((ax1, ax2), (ax3, ax4)) = plt.subplots(nrows=2, ncols=2, figsize=(14, 8))\n",
    "    \n",
    "    axes = [ax1, ax2, ax3, ax4]\n",
    "    \n",
    "    for ax, y_pred, model in zip(axes, preds_list, model_list):\n",
    "        cm = confusion_matrix(y_valid, y_pred)\n",
    "\n",
    "        cm_matrix = pd.DataFrame(data=cm, columns=['Predict Fake', 'Predict True'], \n",
    "                                     index=['Actual Fake', 'Actual True'])\n",
    "\n",
    "        sns.heatmap(cm_matrix, annot=True, fmt='d', ax =ax, cmap='YlGnBu')\n",
    "        ax.set_title(model.steps[-1][0])\n",
    "        \n",
    "    plt.show()\n",
    "        "
   ]
  },
  {
   "cell_type": "code",
   "execution_count": 27,
   "metadata": {
    "execution": {
     "iopub.execute_input": "2021-11-09T21:48:53.540000Z",
     "iopub.status.busy": "2021-11-09T21:48:53.539446Z",
     "iopub.status.idle": "2021-11-09T21:48:54.414856Z",
     "shell.execute_reply": "2021-11-09T21:48:54.414091Z",
     "shell.execute_reply.started": "2021-11-09T21:48:53.539959Z"
    }
   },
   "outputs": [],
   "source": [
    "plot_confusion_matrices(model_list, preds_list, y_test)\n",
    "# model_list = [naive_model, logreg, rf_clf, svm_clf]\n",
    "\n",
    "# plot_confusion_matrices(model_list)"
   ]
  },
  {
   "cell_type": "code",
   "execution_count": 28,
   "metadata": {
    "execution": {
     "iopub.execute_input": "2021-11-09T21:48:54.419481Z",
     "iopub.status.busy": "2021-11-09T21:48:54.419288Z",
     "iopub.status.idle": "2021-11-09T21:49:00.472273Z",
     "shell.execute_reply": "2021-11-09T21:49:00.471495Z",
     "shell.execute_reply.started": "2021-11-09T21:48:54.419457Z"
    }
   },
   "outputs": [],
   "source": [
    "model_file_list = []\n",
    "for model in model_list:\n",
    "    model_name = model.steps[-1][0]\n",
    "    filename = f'{model_name}_model.pkl'\n",
    "    model_file_list.append(filename)\n",
    "    pickle.dump(model, open(filename, 'wb'))"
   ]
  },
  {
   "cell_type": "code",
   "execution_count": null,
   "metadata": {},
   "outputs": [],
   "source": []
  },
  {
   "cell_type": "code",
   "execution_count": 29,
   "metadata": {
    "execution": {
     "iopub.execute_input": "2021-11-09T21:49:00.473804Z",
     "iopub.status.busy": "2021-11-09T21:49:00.473556Z",
     "iopub.status.idle": "2021-11-09T21:49:00.520106Z",
     "shell.execute_reply": "2021-11-09T21:49:00.519302Z",
     "shell.execute_reply.started": "2021-11-09T21:49:00.473770Z"
    }
   },
   "outputs": [],
   "source": [
    "X2 = df2['text']\n",
    "y2 = df2['genuine']\n",
    "\n",
    "X_train2_all, X_test2, y_train2_all, y_test2 = train_test_split(X2, y2,\n",
    "                                                            test_size=0.05,\n",
    "                                                            stratify=y, random_state=0)\n",
    "\n",
    "X_train2, X_valid2, y_train2, y_valid2 = train_test_split(X_train2_all,\n",
    "                                                      y_train2_all,\n",
    "                                                      test_size=0.2, random_state=0)\n",
    "\n",
    "print(X_train2.shape[0], X_valid2.shape[0], X_test2.shape[0])"
   ]
  },
  {
   "cell_type": "code",
   "execution_count": 30,
   "metadata": {
    "execution": {
     "iopub.execute_input": "2021-11-09T21:49:00.521818Z",
     "iopub.status.busy": "2021-11-09T21:49:00.521568Z",
     "iopub.status.idle": "2021-11-09T21:49:20.980692Z",
     "shell.execute_reply": "2021-11-09T21:49:20.979835Z",
     "shell.execute_reply.started": "2021-11-09T21:49:00.521784Z"
    },
    "id": "raU97o126kEt"
   },
   "outputs": [],
   "source": [
    "\n",
    "tokenizer = Tokenizer()\n",
    "tokenizer.fit_on_texts(X_train2)\n",
    "\n",
    "max_seq=400\n",
    "\n",
    "X_train_tf = tokenizer.texts_to_sequences(X_train2)\n",
    "X_train_tf = pad_sequences(X_train_tf, maxlen=max_seq)\n",
    "\n",
    "X_valid_tf = tokenizer.texts_to_sequences(X_valid2)\n",
    "X_valid_tf = pad_sequences(X_valid_tf, maxlen=max_seq)\n",
    "\n",
    "# encoder = TextVectorization(max_tokens=10000)\n",
    "# encoder.adapt(X_train)\n",
    "\n",
    "# vocab = encoder.get_vocabulary()\n",
    "\n",
    "# vocab[:10]\n",
    "word_index = tokenizer.word_index"
   ]
  },
  {
   "cell_type": "code",
   "execution_count": 31,
   "metadata": {
    "execution": {
     "iopub.execute_input": "2021-11-09T21:49:20.982555Z",
     "iopub.status.busy": "2021-11-09T21:49:20.982269Z",
     "iopub.status.idle": "2021-11-09T21:49:29.891411Z",
     "shell.execute_reply": "2021-11-09T21:49:29.890667Z",
     "shell.execute_reply.started": "2021-11-09T21:49:20.982519Z"
    },
    "id": "MpPkK1lc-Ut7"
   },
   "outputs": [],
   "source": [
    "embedding_dim=64\n",
    "\n",
    "model = Sequential([\n",
    "  Input(shape=(max_seq,), dtype='int32'),\n",
    "  Embedding(input_dim = len(word_index) + 1, output_dim = embedding_dim, name=\"embedding\"),\n",
    "  Conv1D(32, kernel_size=3, padding='same'),\n",
    "  MaxPooling1D(pool_size=2),\n",
    "  Bidirectional(LSTM(64, return_sequences=True, dropout=0.2, recurrent_dropout=0.2)),\n",
    "  Bidirectional(LSTM(32, dropout=0.2)),\n",
    "  Dense(64, activation='relu'),\n",
    "  Dropout(0.5),\n",
    "  Dense(1, activation='sigmoid')\n",
    "])"
   ]
  },
  {
   "cell_type": "code",
   "execution_count": 32,
   "metadata": {
    "execution": {
     "iopub.execute_input": "2021-11-09T21:49:29.892909Z",
     "iopub.status.busy": "2021-11-09T21:49:29.892656Z",
     "iopub.status.idle": "2021-11-09T21:49:29.905662Z",
     "shell.execute_reply": "2021-11-09T21:49:29.904884Z",
     "shell.execute_reply.started": "2021-11-09T21:49:29.892877Z"
    },
    "id": "D8rPAI53_dDc",
    "outputId": "7d02c439-f020-4f69-87e5-3c661627bc21"
   },
   "outputs": [],
   "source": [
    "model.summary()"
   ]
  },
  {
   "cell_type": "code",
   "execution_count": 33,
   "metadata": {
    "execution": {
     "iopub.execute_input": "2021-11-09T21:49:29.907031Z",
     "iopub.status.busy": "2021-11-09T21:49:29.906672Z",
     "iopub.status.idle": "2021-11-09T21:49:31.162986Z",
     "shell.execute_reply": "2021-11-09T21:49:31.161308Z",
     "shell.execute_reply.started": "2021-11-09T21:49:29.906995Z"
    },
    "id": "3RWTQ5tX0VfS"
   },
   "outputs": [],
   "source": [
    "tensorboard_callback = tf.keras.callbacks.TensorBoard(log_dir=\"logs\")\n",
    "\n",
    "early_stopping_monitor = tf.keras.callbacks.EarlyStopping(patience=3, monitor='val_loss')\n",
    "\n",
    "checkpoint_filepath = '/tmp/checkpoint'\n",
    "checkpoint_dir = os.path.dirname(checkpoint_filepath)\n",
    "\n",
    "model_checkpoint_callback = tf.keras.callbacks.ModelCheckpoint(\n",
    "    filepath=checkpoint_filepath,\n",
    "    save_weights_only=True,\n",
    "    monitor='val_accuracy',\n",
    "    mode='max',\n",
    "    save_best_only=True)\n"
   ]
  },
  {
   "cell_type": "code",
   "execution_count": 34,
   "metadata": {
    "execution": {
     "iopub.execute_input": "2021-11-09T21:49:31.164367Z",
     "iopub.status.busy": "2021-11-09T21:49:31.164098Z",
     "iopub.status.idle": "2021-11-09T21:49:31.180059Z",
     "shell.execute_reply": "2021-11-09T21:49:31.179409Z",
     "shell.execute_reply.started": "2021-11-09T21:49:31.164327Z"
    },
    "id": "EthY01Ln006G"
   },
   "outputs": [],
   "source": [
    "model.compile(optimizer='adam',\n",
    "              loss='binary_crossentropy',\n",
    "              metrics=['accuracy'])\n"
   ]
  },
  {
   "cell_type": "code",
   "execution_count": null,
   "metadata": {
    "execution": {
     "iopub.execute_input": "2021-11-09T21:49:31.181665Z",
     "iopub.status.busy": "2021-11-09T21:49:31.181417Z"
    },
    "id": "vkZhtNHa_qVb",
    "outputId": "3f7fa5fd-8c54-4e9a-def4-9ed64a63cd57"
   },
   "outputs": [],
   "source": [
    "history = model.fit(X_train_tf,\n",
    "                    y_train2,\n",
    "                    validation_data=(X_valid_tf, y_valid2),\n",
    "                    epochs = 10,\n",
    "                    callbacks=[tensorboard_callback,\n",
    "                               early_stopping_monitor,\n",
    "                               model_checkpoint_callback])"
   ]
  },
  {
   "cell_type": "code",
   "execution_count": null,
   "metadata": {},
   "outputs": [],
   "source": [
    "os.listdir(checkpoint_dir)\n"
   ]
  },
  {
   "cell_type": "code",
   "execution_count": null,
   "metadata": {},
   "outputs": [],
   "source": [
    "# Loads the weights\n",
    "model.load_weights(checkpoint_path)\n",
    "\n",
    "# Re-evaluate the model\n",
    "loss, acc = model.evaluate(test_images, test_labels, verbose=2)\n",
    "print(\"Restored model, accuracy: {:5.2f}%\".format(100 * acc))\n",
    "\n",
    "\n",
    "model.save_weights('./checkpoints/my_checkpoint')"
   ]
  },
  {
   "cell_type": "code",
   "execution_count": null,
   "metadata": {
    "id": "dCgVE-v0iSkA"
   },
   "outputs": [],
   "source": [
    "X_test_tf = tokenizer.texts_to_sequences(X_test2)\n",
    "X_test_tf = pad_sequences(X_test_tf, maxlen=max_seq)\n",
    "pred_tf = model.predict(X_test_tf)\n",
    "\n",
    "pred_tf = np.array([1 if pred >=0.5 else 0 for pred in pred_tf])\n",
    "\n",
    "unique, counts = np.unique(pred_tf, return_counts=True)\n",
    "\n",
    "print(np.asarray((unique, counts)).T)\n",
    "# pred_tf[:20]"
   ]
  },
  {
   "cell_type": "code",
   "execution_count": null,
   "metadata": {},
   "outputs": [],
   "source": [
    "class_rep_tf = classification_report(y_test2, pred_tf)\n",
    "cm_tf = confusion_matrix(y_test2, pred_tf)\n",
    "\n",
    "cm_matrix_tf = pd.DataFrame(data=cm_tf, columns=['Predict Fake', 'Predict True'], \n",
    "                                 index=['Actual Fake', 'Actual True'])\n",
    "\n",
    "print(class_rep_tf)\n",
    "\n",
    "sns.heatmap(cm_matrix_tf, annot=True, fmt='d', cmap='YlGnBu')"
   ]
  },
  {
   "cell_type": "code",
   "execution_count": null,
   "metadata": {
    "id": "NAjI_AYa1Bcm",
    "outputId": "e7cd41f9-d9f5-40b7-b702-53169fc4fd53"
   },
   "outputs": [],
   "source": [
    "%load_ext tensorboard\n",
    "%tensorboard --logdir logs\n"
   ]
  },
  {
   "cell_type": "code",
   "execution_count": null,
   "metadata": {
    "id": "bBhcF_C_1635"
   },
   "outputs": [],
   "source": [
    "weights = model.get_layer('embedding').get_weights()[0]\n",
    "\n"
   ]
  },
  {
   "cell_type": "code",
   "execution_count": null,
   "metadata": {},
   "outputs": [],
   "source": [
    "out_v = io.open('vectors.tsv', 'w', encoding='utf-8')\n",
    "out_m = io.open('metadata.tsv', 'w', encoding='utf-8')\n",
    "\n",
    "for index, word in enumerate(word_index):\n",
    "    if index == 0:\n",
    "        continue  # skip 0, it's padding.\n",
    "    vec = weights[index]\n",
    "    out_v.write('\\t'.join([str(x) for x in vec]) + \"\\n\")\n",
    "    out_m.write(word + \"\\n\")\n",
    "out_v.close()\n",
    "out_m.close()\n"
   ]
  },
  {
   "cell_type": "code",
   "execution_count": null,
   "metadata": {
    "id": "ybkuDhhA2bfq",
    "outputId": "35c015b8-cbd1-4462-e76f-db2e915810f7"
   },
   "outputs": [],
   "source": [
    "try:\n",
    "    from google.colab import files\n",
    "    files.download('vectors.tsv')\n",
    "    files.download('metadata.tsv')\n",
    "except Exception:\n",
    "    pass\n"
   ]
  },
  {
   "cell_type": "code",
   "execution_count": null,
   "metadata": {
    "id": "S6kCIE_D2uIH"
   },
   "outputs": [],
   "source": []
  }
 ],
 "metadata": {
  "kernelspec": {
   "display_name": "Python 3 (ipykernel)",
   "language": "python",
   "name": "python3"
  },
  "language_info": {
   "codemirror_mode": {
    "name": "ipython",
    "version": 3
   },
   "file_extension": ".py",
   "mimetype": "text/x-python",
   "name": "python",
   "nbconvert_exporter": "python",
   "pygments_lexer": "ipython3",
   "version": "3.9.7"
  }
 },
 "nbformat": 4,
 "nbformat_minor": 4
}
