{
 "cells": [
  {
   "cell_type": "markdown",
   "id": "c8205585",
   "metadata": {},
   "source": [
    "### FAKE NEWS DETECTION"
   ]
  },
  {
   "cell_type": "markdown",
   "id": "b7203233",
   "metadata": {},
   "source": [
    "##### importing the libraries"
   ]
  },
  {
   "cell_type": "code",
   "execution_count": 1,
   "id": "1bd00abc",
   "metadata": {},
   "outputs": [],
   "source": [
    "import pandas as pd\n",
    "import numpy as np\n",
    "import seaborn as sns\n",
    "import matplotlib.pyplot as plt\n",
    "from sklearn.model_selection import train_test_split\n",
    "from sklearn.metrics import accuracy_score\n",
    "from sklearn.metrics import classification_report\n",
    "import re\n",
    "import string\n",
    "import nltk"
   ]
  },
  {
   "cell_type": "code",
   "execution_count": 2,
   "id": "3710a760",
   "metadata": {},
   "outputs": [],
   "source": [
    "from nltk.stem.porter import PorterStemmer"
   ]
  },
  {
   "cell_type": "code",
   "execution_count": 3,
   "id": "650506b4",
   "metadata": {},
   "outputs": [],
   "source": [
    "# nltk.download()"
   ]
  },
  {
   "cell_type": "code",
   "execution_count": 4,
   "id": "c7fea856",
   "metadata": {},
   "outputs": [
    {
     "name": "stderr",
     "output_type": "stream",
     "text": [
      "[nltk_data] Error loading stopwords: <urlopen error [Errno 11001]\n",
      "[nltk_data]     getaddrinfo failed>\n"
     ]
    }
   ],
   "source": [
    "nltk.download('stopwords')\n",
    "from nltk.corpus import stopwords\n",
    "STOPWORDS = set(stopwords.words('english'))"
   ]
  },
  {
   "cell_type": "code",
   "execution_count": 5,
   "id": "8d33b7b1",
   "metadata": {},
   "outputs": [],
   "source": [
    "df_fake = pd.read_csv(\"Fake.csv\")\n",
    "df_true = pd.read_csv(\"True.csv\")"
   ]
  },
  {
   "cell_type": "code",
   "execution_count": 6,
   "id": "5dbacd03",
   "metadata": {},
   "outputs": [
    {
     "data": {
      "text/html": [
       "<div>\n",
       "<style scoped>\n",
       "    .dataframe tbody tr th:only-of-type {\n",
       "        vertical-align: middle;\n",
       "    }\n",
       "\n",
       "    .dataframe tbody tr th {\n",
       "        vertical-align: top;\n",
       "    }\n",
       "\n",
       "    .dataframe thead th {\n",
       "        text-align: right;\n",
       "    }\n",
       "</style>\n",
       "<table border=\"1\" class=\"dataframe\">\n",
       "  <thead>\n",
       "    <tr style=\"text-align: right;\">\n",
       "      <th></th>\n",
       "      <th>title</th>\n",
       "      <th>text</th>\n",
       "      <th>subject</th>\n",
       "      <th>date</th>\n",
       "    </tr>\n",
       "  </thead>\n",
       "  <tbody>\n",
       "    <tr>\n",
       "      <th>0</th>\n",
       "      <td>Donald Trump Sends Out Embarrassing New Year’...</td>\n",
       "      <td>Donald Trump just couldn t wish all Americans ...</td>\n",
       "      <td>News</td>\n",
       "      <td>December 31, 2017</td>\n",
       "    </tr>\n",
       "    <tr>\n",
       "      <th>1</th>\n",
       "      <td>Drunk Bragging Trump Staffer Started Russian ...</td>\n",
       "      <td>House Intelligence Committee Chairman Devin Nu...</td>\n",
       "      <td>News</td>\n",
       "      <td>December 31, 2017</td>\n",
       "    </tr>\n",
       "    <tr>\n",
       "      <th>2</th>\n",
       "      <td>Sheriff David Clarke Becomes An Internet Joke...</td>\n",
       "      <td>On Friday, it was revealed that former Milwauk...</td>\n",
       "      <td>News</td>\n",
       "      <td>December 30, 2017</td>\n",
       "    </tr>\n",
       "    <tr>\n",
       "      <th>3</th>\n",
       "      <td>Trump Is So Obsessed He Even Has Obama’s Name...</td>\n",
       "      <td>On Christmas day, Donald Trump announced that ...</td>\n",
       "      <td>News</td>\n",
       "      <td>December 29, 2017</td>\n",
       "    </tr>\n",
       "    <tr>\n",
       "      <th>4</th>\n",
       "      <td>Pope Francis Just Called Out Donald Trump Dur...</td>\n",
       "      <td>Pope Francis used his annual Christmas Day mes...</td>\n",
       "      <td>News</td>\n",
       "      <td>December 25, 2017</td>\n",
       "    </tr>\n",
       "  </tbody>\n",
       "</table>\n",
       "</div>"
      ],
      "text/plain": [
       "                                               title  \\\n",
       "0   Donald Trump Sends Out Embarrassing New Year’...   \n",
       "1   Drunk Bragging Trump Staffer Started Russian ...   \n",
       "2   Sheriff David Clarke Becomes An Internet Joke...   \n",
       "3   Trump Is So Obsessed He Even Has Obama’s Name...   \n",
       "4   Pope Francis Just Called Out Donald Trump Dur...   \n",
       "\n",
       "                                                text subject  \\\n",
       "0  Donald Trump just couldn t wish all Americans ...    News   \n",
       "1  House Intelligence Committee Chairman Devin Nu...    News   \n",
       "2  On Friday, it was revealed that former Milwauk...    News   \n",
       "3  On Christmas day, Donald Trump announced that ...    News   \n",
       "4  Pope Francis used his annual Christmas Day mes...    News   \n",
       "\n",
       "                date  \n",
       "0  December 31, 2017  \n",
       "1  December 31, 2017  \n",
       "2  December 30, 2017  \n",
       "3  December 29, 2017  \n",
       "4  December 25, 2017  "
      ]
     },
     "execution_count": 6,
     "metadata": {},
     "output_type": "execute_result"
    }
   ],
   "source": [
    "df_fake.head()"
   ]
  },
  {
   "cell_type": "code",
   "execution_count": 7,
   "id": "9b738140",
   "metadata": {},
   "outputs": [
    {
     "data": {
      "text/html": [
       "<div>\n",
       "<style scoped>\n",
       "    .dataframe tbody tr th:only-of-type {\n",
       "        vertical-align: middle;\n",
       "    }\n",
       "\n",
       "    .dataframe tbody tr th {\n",
       "        vertical-align: top;\n",
       "    }\n",
       "\n",
       "    .dataframe thead th {\n",
       "        text-align: right;\n",
       "    }\n",
       "</style>\n",
       "<table border=\"1\" class=\"dataframe\">\n",
       "  <thead>\n",
       "    <tr style=\"text-align: right;\">\n",
       "      <th></th>\n",
       "      <th>title</th>\n",
       "      <th>text</th>\n",
       "      <th>subject</th>\n",
       "      <th>date</th>\n",
       "    </tr>\n",
       "  </thead>\n",
       "  <tbody>\n",
       "    <tr>\n",
       "      <th>0</th>\n",
       "      <td>As U.S. budget fight looms, Republicans flip t...</td>\n",
       "      <td>WASHINGTON (Reuters) - The head of a conservat...</td>\n",
       "      <td>politicsNews</td>\n",
       "      <td>December 31, 2017</td>\n",
       "    </tr>\n",
       "    <tr>\n",
       "      <th>1</th>\n",
       "      <td>U.S. military to accept transgender recruits o...</td>\n",
       "      <td>WASHINGTON (Reuters) - Transgender people will...</td>\n",
       "      <td>politicsNews</td>\n",
       "      <td>December 29, 2017</td>\n",
       "    </tr>\n",
       "    <tr>\n",
       "      <th>2</th>\n",
       "      <td>Senior U.S. Republican senator: 'Let Mr. Muell...</td>\n",
       "      <td>WASHINGTON (Reuters) - The special counsel inv...</td>\n",
       "      <td>politicsNews</td>\n",
       "      <td>December 31, 2017</td>\n",
       "    </tr>\n",
       "    <tr>\n",
       "      <th>3</th>\n",
       "      <td>FBI Russia probe helped by Australian diplomat...</td>\n",
       "      <td>WASHINGTON (Reuters) - Trump campaign adviser ...</td>\n",
       "      <td>politicsNews</td>\n",
       "      <td>December 30, 2017</td>\n",
       "    </tr>\n",
       "    <tr>\n",
       "      <th>4</th>\n",
       "      <td>Trump wants Postal Service to charge 'much mor...</td>\n",
       "      <td>SEATTLE/WASHINGTON (Reuters) - President Donal...</td>\n",
       "      <td>politicsNews</td>\n",
       "      <td>December 29, 2017</td>\n",
       "    </tr>\n",
       "  </tbody>\n",
       "</table>\n",
       "</div>"
      ],
      "text/plain": [
       "                                               title  \\\n",
       "0  As U.S. budget fight looms, Republicans flip t...   \n",
       "1  U.S. military to accept transgender recruits o...   \n",
       "2  Senior U.S. Republican senator: 'Let Mr. Muell...   \n",
       "3  FBI Russia probe helped by Australian diplomat...   \n",
       "4  Trump wants Postal Service to charge 'much mor...   \n",
       "\n",
       "                                                text       subject  \\\n",
       "0  WASHINGTON (Reuters) - The head of a conservat...  politicsNews   \n",
       "1  WASHINGTON (Reuters) - Transgender people will...  politicsNews   \n",
       "2  WASHINGTON (Reuters) - The special counsel inv...  politicsNews   \n",
       "3  WASHINGTON (Reuters) - Trump campaign adviser ...  politicsNews   \n",
       "4  SEATTLE/WASHINGTON (Reuters) - President Donal...  politicsNews   \n",
       "\n",
       "                 date  \n",
       "0  December 31, 2017   \n",
       "1  December 29, 2017   \n",
       "2  December 31, 2017   \n",
       "3  December 30, 2017   \n",
       "4  December 29, 2017   "
      ]
     },
     "execution_count": 7,
     "metadata": {},
     "output_type": "execute_result"
    }
   ],
   "source": [
    "df_true.head()"
   ]
  },
  {
   "cell_type": "code",
   "execution_count": 8,
   "id": "db005ae8",
   "metadata": {},
   "outputs": [],
   "source": [
    "df_fake[\"class\"] = 0\n",
    "df_true[\"class\"] = 1 #creating a class column this will serve as the label of the data"
   ]
  },
  {
   "cell_type": "code",
   "execution_count": 9,
   "id": "02313994",
   "metadata": {},
   "outputs": [
    {
     "data": {
      "text/html": [
       "<div>\n",
       "<style scoped>\n",
       "    .dataframe tbody tr th:only-of-type {\n",
       "        vertical-align: middle;\n",
       "    }\n",
       "\n",
       "    .dataframe tbody tr th {\n",
       "        vertical-align: top;\n",
       "    }\n",
       "\n",
       "    .dataframe thead th {\n",
       "        text-align: right;\n",
       "    }\n",
       "</style>\n",
       "<table border=\"1\" class=\"dataframe\">\n",
       "  <thead>\n",
       "    <tr style=\"text-align: right;\">\n",
       "      <th></th>\n",
       "      <th>title</th>\n",
       "      <th>text</th>\n",
       "      <th>subject</th>\n",
       "      <th>date</th>\n",
       "      <th>class</th>\n",
       "    </tr>\n",
       "  </thead>\n",
       "  <tbody>\n",
       "    <tr>\n",
       "      <th>0</th>\n",
       "      <td>As U.S. budget fight looms, Republicans flip t...</td>\n",
       "      <td>WASHINGTON (Reuters) - The head of a conservat...</td>\n",
       "      <td>politicsNews</td>\n",
       "      <td>December 31, 2017</td>\n",
       "      <td>1</td>\n",
       "    </tr>\n",
       "    <tr>\n",
       "      <th>1</th>\n",
       "      <td>U.S. military to accept transgender recruits o...</td>\n",
       "      <td>WASHINGTON (Reuters) - Transgender people will...</td>\n",
       "      <td>politicsNews</td>\n",
       "      <td>December 29, 2017</td>\n",
       "      <td>1</td>\n",
       "    </tr>\n",
       "    <tr>\n",
       "      <th>2</th>\n",
       "      <td>Senior U.S. Republican senator: 'Let Mr. Muell...</td>\n",
       "      <td>WASHINGTON (Reuters) - The special counsel inv...</td>\n",
       "      <td>politicsNews</td>\n",
       "      <td>December 31, 2017</td>\n",
       "      <td>1</td>\n",
       "    </tr>\n",
       "    <tr>\n",
       "      <th>3</th>\n",
       "      <td>FBI Russia probe helped by Australian diplomat...</td>\n",
       "      <td>WASHINGTON (Reuters) - Trump campaign adviser ...</td>\n",
       "      <td>politicsNews</td>\n",
       "      <td>December 30, 2017</td>\n",
       "      <td>1</td>\n",
       "    </tr>\n",
       "    <tr>\n",
       "      <th>4</th>\n",
       "      <td>Trump wants Postal Service to charge 'much mor...</td>\n",
       "      <td>SEATTLE/WASHINGTON (Reuters) - President Donal...</td>\n",
       "      <td>politicsNews</td>\n",
       "      <td>December 29, 2017</td>\n",
       "      <td>1</td>\n",
       "    </tr>\n",
       "  </tbody>\n",
       "</table>\n",
       "</div>"
      ],
      "text/plain": [
       "                                               title  \\\n",
       "0  As U.S. budget fight looms, Republicans flip t...   \n",
       "1  U.S. military to accept transgender recruits o...   \n",
       "2  Senior U.S. Republican senator: 'Let Mr. Muell...   \n",
       "3  FBI Russia probe helped by Australian diplomat...   \n",
       "4  Trump wants Postal Service to charge 'much mor...   \n",
       "\n",
       "                                                text       subject  \\\n",
       "0  WASHINGTON (Reuters) - The head of a conservat...  politicsNews   \n",
       "1  WASHINGTON (Reuters) - Transgender people will...  politicsNews   \n",
       "2  WASHINGTON (Reuters) - The special counsel inv...  politicsNews   \n",
       "3  WASHINGTON (Reuters) - Trump campaign adviser ...  politicsNews   \n",
       "4  SEATTLE/WASHINGTON (Reuters) - President Donal...  politicsNews   \n",
       "\n",
       "                 date  class  \n",
       "0  December 31, 2017       1  \n",
       "1  December 29, 2017       1  \n",
       "2  December 31, 2017       1  \n",
       "3  December 30, 2017       1  \n",
       "4  December 29, 2017       1  "
      ]
     },
     "execution_count": 9,
     "metadata": {},
     "output_type": "execute_result"
    }
   ],
   "source": [
    "df_true.head()"
   ]
  },
  {
   "cell_type": "code",
   "execution_count": 10,
   "id": "103c11f3",
   "metadata": {},
   "outputs": [
    {
     "data": {
      "text/html": [
       "<div>\n",
       "<style scoped>\n",
       "    .dataframe tbody tr th:only-of-type {\n",
       "        vertical-align: middle;\n",
       "    }\n",
       "\n",
       "    .dataframe tbody tr th {\n",
       "        vertical-align: top;\n",
       "    }\n",
       "\n",
       "    .dataframe thead th {\n",
       "        text-align: right;\n",
       "    }\n",
       "</style>\n",
       "<table border=\"1\" class=\"dataframe\">\n",
       "  <thead>\n",
       "    <tr style=\"text-align: right;\">\n",
       "      <th></th>\n",
       "      <th>title</th>\n",
       "      <th>text</th>\n",
       "      <th>subject</th>\n",
       "      <th>date</th>\n",
       "      <th>class</th>\n",
       "    </tr>\n",
       "  </thead>\n",
       "  <tbody>\n",
       "    <tr>\n",
       "      <th>0</th>\n",
       "      <td>Donald Trump Sends Out Embarrassing New Year’...</td>\n",
       "      <td>Donald Trump just couldn t wish all Americans ...</td>\n",
       "      <td>News</td>\n",
       "      <td>December 31, 2017</td>\n",
       "      <td>0</td>\n",
       "    </tr>\n",
       "    <tr>\n",
       "      <th>1</th>\n",
       "      <td>Drunk Bragging Trump Staffer Started Russian ...</td>\n",
       "      <td>House Intelligence Committee Chairman Devin Nu...</td>\n",
       "      <td>News</td>\n",
       "      <td>December 31, 2017</td>\n",
       "      <td>0</td>\n",
       "    </tr>\n",
       "    <tr>\n",
       "      <th>2</th>\n",
       "      <td>Sheriff David Clarke Becomes An Internet Joke...</td>\n",
       "      <td>On Friday, it was revealed that former Milwauk...</td>\n",
       "      <td>News</td>\n",
       "      <td>December 30, 2017</td>\n",
       "      <td>0</td>\n",
       "    </tr>\n",
       "    <tr>\n",
       "      <th>3</th>\n",
       "      <td>Trump Is So Obsessed He Even Has Obama’s Name...</td>\n",
       "      <td>On Christmas day, Donald Trump announced that ...</td>\n",
       "      <td>News</td>\n",
       "      <td>December 29, 2017</td>\n",
       "      <td>0</td>\n",
       "    </tr>\n",
       "    <tr>\n",
       "      <th>4</th>\n",
       "      <td>Pope Francis Just Called Out Donald Trump Dur...</td>\n",
       "      <td>Pope Francis used his annual Christmas Day mes...</td>\n",
       "      <td>News</td>\n",
       "      <td>December 25, 2017</td>\n",
       "      <td>0</td>\n",
       "    </tr>\n",
       "  </tbody>\n",
       "</table>\n",
       "</div>"
      ],
      "text/plain": [
       "                                               title  \\\n",
       "0   Donald Trump Sends Out Embarrassing New Year’...   \n",
       "1   Drunk Bragging Trump Staffer Started Russian ...   \n",
       "2   Sheriff David Clarke Becomes An Internet Joke...   \n",
       "3   Trump Is So Obsessed He Even Has Obama’s Name...   \n",
       "4   Pope Francis Just Called Out Donald Trump Dur...   \n",
       "\n",
       "                                                text subject  \\\n",
       "0  Donald Trump just couldn t wish all Americans ...    News   \n",
       "1  House Intelligence Committee Chairman Devin Nu...    News   \n",
       "2  On Friday, it was revealed that former Milwauk...    News   \n",
       "3  On Christmas day, Donald Trump announced that ...    News   \n",
       "4  Pope Francis used his annual Christmas Day mes...    News   \n",
       "\n",
       "                date  class  \n",
       "0  December 31, 2017      0  \n",
       "1  December 31, 2017      0  \n",
       "2  December 30, 2017      0  \n",
       "3  December 29, 2017      0  \n",
       "4  December 25, 2017      0  "
      ]
     },
     "execution_count": 10,
     "metadata": {},
     "output_type": "execute_result"
    }
   ],
   "source": [
    "df_fake.head()"
   ]
  },
  {
   "cell_type": "code",
   "execution_count": 11,
   "id": "b32f61ee",
   "metadata": {},
   "outputs": [
    {
     "data": {
      "text/plain": [
       "(23481, 5)"
      ]
     },
     "execution_count": 11,
     "metadata": {},
     "output_type": "execute_result"
    }
   ],
   "source": [
    "df_fake.shape"
   ]
  },
  {
   "cell_type": "code",
   "execution_count": 12,
   "id": "5c8dd545",
   "metadata": {},
   "outputs": [
    {
     "data": {
      "text/plain": [
       "(21417, 5)"
      ]
     },
     "execution_count": 12,
     "metadata": {},
     "output_type": "execute_result"
    }
   ],
   "source": [
    "df_true.shape"
   ]
  },
  {
   "cell_type": "code",
   "execution_count": 13,
   "id": "8c29464e",
   "metadata": {},
   "outputs": [],
   "source": [
    "df_merged = pd.concat([df_fake,df_true], axis = 0) #merging both dataframe frames into one dataframe"
   ]
  },
  {
   "cell_type": "code",
   "execution_count": 14,
   "id": "e9d5772f",
   "metadata": {},
   "outputs": [
    {
     "data": {
      "text/html": [
       "<div>\n",
       "<style scoped>\n",
       "    .dataframe tbody tr th:only-of-type {\n",
       "        vertical-align: middle;\n",
       "    }\n",
       "\n",
       "    .dataframe tbody tr th {\n",
       "        vertical-align: top;\n",
       "    }\n",
       "\n",
       "    .dataframe thead th {\n",
       "        text-align: right;\n",
       "    }\n",
       "</style>\n",
       "<table border=\"1\" class=\"dataframe\">\n",
       "  <thead>\n",
       "    <tr style=\"text-align: right;\">\n",
       "      <th></th>\n",
       "      <th>title</th>\n",
       "      <th>text</th>\n",
       "      <th>subject</th>\n",
       "      <th>date</th>\n",
       "      <th>class</th>\n",
       "    </tr>\n",
       "  </thead>\n",
       "  <tbody>\n",
       "    <tr>\n",
       "      <th>0</th>\n",
       "      <td>Donald Trump Sends Out Embarrassing New Year’...</td>\n",
       "      <td>Donald Trump just couldn t wish all Americans ...</td>\n",
       "      <td>News</td>\n",
       "      <td>December 31, 2017</td>\n",
       "      <td>0</td>\n",
       "    </tr>\n",
       "    <tr>\n",
       "      <th>1</th>\n",
       "      <td>Drunk Bragging Trump Staffer Started Russian ...</td>\n",
       "      <td>House Intelligence Committee Chairman Devin Nu...</td>\n",
       "      <td>News</td>\n",
       "      <td>December 31, 2017</td>\n",
       "      <td>0</td>\n",
       "    </tr>\n",
       "    <tr>\n",
       "      <th>2</th>\n",
       "      <td>Sheriff David Clarke Becomes An Internet Joke...</td>\n",
       "      <td>On Friday, it was revealed that former Milwauk...</td>\n",
       "      <td>News</td>\n",
       "      <td>December 30, 2017</td>\n",
       "      <td>0</td>\n",
       "    </tr>\n",
       "    <tr>\n",
       "      <th>3</th>\n",
       "      <td>Trump Is So Obsessed He Even Has Obama’s Name...</td>\n",
       "      <td>On Christmas day, Donald Trump announced that ...</td>\n",
       "      <td>News</td>\n",
       "      <td>December 29, 2017</td>\n",
       "      <td>0</td>\n",
       "    </tr>\n",
       "    <tr>\n",
       "      <th>4</th>\n",
       "      <td>Pope Francis Just Called Out Donald Trump Dur...</td>\n",
       "      <td>Pope Francis used his annual Christmas Day mes...</td>\n",
       "      <td>News</td>\n",
       "      <td>December 25, 2017</td>\n",
       "      <td>0</td>\n",
       "    </tr>\n",
       "    <tr>\n",
       "      <th>5</th>\n",
       "      <td>Racist Alabama Cops Brutalize Black Boy While...</td>\n",
       "      <td>The number of cases of cops brutalizing and ki...</td>\n",
       "      <td>News</td>\n",
       "      <td>December 25, 2017</td>\n",
       "      <td>0</td>\n",
       "    </tr>\n",
       "    <tr>\n",
       "      <th>6</th>\n",
       "      <td>Fresh Off The Golf Course, Trump Lashes Out A...</td>\n",
       "      <td>Donald Trump spent a good portion of his day a...</td>\n",
       "      <td>News</td>\n",
       "      <td>December 23, 2017</td>\n",
       "      <td>0</td>\n",
       "    </tr>\n",
       "    <tr>\n",
       "      <th>7</th>\n",
       "      <td>Trump Said Some INSANELY Racist Stuff Inside ...</td>\n",
       "      <td>In the wake of yet another court decision that...</td>\n",
       "      <td>News</td>\n",
       "      <td>December 23, 2017</td>\n",
       "      <td>0</td>\n",
       "    </tr>\n",
       "    <tr>\n",
       "      <th>8</th>\n",
       "      <td>Former CIA Director Slams Trump Over UN Bully...</td>\n",
       "      <td>Many people have raised the alarm regarding th...</td>\n",
       "      <td>News</td>\n",
       "      <td>December 22, 2017</td>\n",
       "      <td>0</td>\n",
       "    </tr>\n",
       "    <tr>\n",
       "      <th>9</th>\n",
       "      <td>WATCH: Brand-New Pro-Trump Ad Features So Muc...</td>\n",
       "      <td>Just when you might have thought we d get a br...</td>\n",
       "      <td>News</td>\n",
       "      <td>December 21, 2017</td>\n",
       "      <td>0</td>\n",
       "    </tr>\n",
       "  </tbody>\n",
       "</table>\n",
       "</div>"
      ],
      "text/plain": [
       "                                               title  \\\n",
       "0   Donald Trump Sends Out Embarrassing New Year’...   \n",
       "1   Drunk Bragging Trump Staffer Started Russian ...   \n",
       "2   Sheriff David Clarke Becomes An Internet Joke...   \n",
       "3   Trump Is So Obsessed He Even Has Obama’s Name...   \n",
       "4   Pope Francis Just Called Out Donald Trump Dur...   \n",
       "5   Racist Alabama Cops Brutalize Black Boy While...   \n",
       "6   Fresh Off The Golf Course, Trump Lashes Out A...   \n",
       "7   Trump Said Some INSANELY Racist Stuff Inside ...   \n",
       "8   Former CIA Director Slams Trump Over UN Bully...   \n",
       "9   WATCH: Brand-New Pro-Trump Ad Features So Muc...   \n",
       "\n",
       "                                                text subject  \\\n",
       "0  Donald Trump just couldn t wish all Americans ...    News   \n",
       "1  House Intelligence Committee Chairman Devin Nu...    News   \n",
       "2  On Friday, it was revealed that former Milwauk...    News   \n",
       "3  On Christmas day, Donald Trump announced that ...    News   \n",
       "4  Pope Francis used his annual Christmas Day mes...    News   \n",
       "5  The number of cases of cops brutalizing and ki...    News   \n",
       "6  Donald Trump spent a good portion of his day a...    News   \n",
       "7  In the wake of yet another court decision that...    News   \n",
       "8  Many people have raised the alarm regarding th...    News   \n",
       "9  Just when you might have thought we d get a br...    News   \n",
       "\n",
       "                date  class  \n",
       "0  December 31, 2017      0  \n",
       "1  December 31, 2017      0  \n",
       "2  December 30, 2017      0  \n",
       "3  December 29, 2017      0  \n",
       "4  December 25, 2017      0  \n",
       "5  December 25, 2017      0  \n",
       "6  December 23, 2017      0  \n",
       "7  December 23, 2017      0  \n",
       "8  December 22, 2017      0  \n",
       "9  December 21, 2017      0  "
      ]
     },
     "execution_count": 14,
     "metadata": {},
     "output_type": "execute_result"
    }
   ],
   "source": [
    "df_merged.head(10)"
   ]
  },
  {
   "cell_type": "code",
   "execution_count": 15,
   "id": "d49da1c6",
   "metadata": {},
   "outputs": [],
   "source": [
    "df_merged = df_merged.sample(frac = 1) #shuffling the data"
   ]
  },
  {
   "cell_type": "code",
   "execution_count": 16,
   "id": "5232723d",
   "metadata": {},
   "outputs": [
    {
     "data": {
      "text/html": [
       "<div>\n",
       "<style scoped>\n",
       "    .dataframe tbody tr th:only-of-type {\n",
       "        vertical-align: middle;\n",
       "    }\n",
       "\n",
       "    .dataframe tbody tr th {\n",
       "        vertical-align: top;\n",
       "    }\n",
       "\n",
       "    .dataframe thead th {\n",
       "        text-align: right;\n",
       "    }\n",
       "</style>\n",
       "<table border=\"1\" class=\"dataframe\">\n",
       "  <thead>\n",
       "    <tr style=\"text-align: right;\">\n",
       "      <th></th>\n",
       "      <th>title</th>\n",
       "      <th>text</th>\n",
       "      <th>subject</th>\n",
       "      <th>date</th>\n",
       "      <th>class</th>\n",
       "    </tr>\n",
       "  </thead>\n",
       "  <tbody>\n",
       "    <tr>\n",
       "      <th>15809</th>\n",
       "      <td>MUST WATCH VIDEO: LISTEN TO OBAMA AND HIS COMM...</td>\n",
       "      <td>OBAMA SPEAKS ABOUT FRANK AND HIS MENTOR WHO SC...</td>\n",
       "      <td>politics</td>\n",
       "      <td>Apr 19, 2015</td>\n",
       "      <td>0</td>\n",
       "    </tr>\n",
       "    <tr>\n",
       "      <th>12629</th>\n",
       "      <td>After Brexit, UK aims for trade deal with EU t...</td>\n",
       "      <td>LONDON (Reuters) - Britain is aiming to secure...</td>\n",
       "      <td>worldnews</td>\n",
       "      <td>December 10, 2017</td>\n",
       "      <td>1</td>\n",
       "    </tr>\n",
       "    <tr>\n",
       "      <th>12265</th>\n",
       "      <td>Watchdog says Gulf rift taking toll on ordinar...</td>\n",
       "      <td>DUBAI (Reuters) - Families are being torn apar...</td>\n",
       "      <td>worldnews</td>\n",
       "      <td>December 14, 2017</td>\n",
       "      <td>1</td>\n",
       "    </tr>\n",
       "    <tr>\n",
       "      <th>9133</th>\n",
       "      <td>House votes to protect 'dark money' political ...</td>\n",
       "      <td>WASHINGTON (Reuters) - The Republican-controll...</td>\n",
       "      <td>politicsNews</td>\n",
       "      <td>June 14, 2016</td>\n",
       "      <td>1</td>\n",
       "    </tr>\n",
       "    <tr>\n",
       "      <th>21332</th>\n",
       "      <td>ADMINISTRATORS FACE BACKLASH After Florida Mid...</td>\n",
       "      <td>We didn t mean to send a negative message. We...</td>\n",
       "      <td>left-news</td>\n",
       "      <td>Nov 15, 2015</td>\n",
       "      <td>0</td>\n",
       "    </tr>\n",
       "    <tr>\n",
       "      <th>16576</th>\n",
       "      <td>NATIONAL SALARY? This Crazy Country Ready To V...</td>\n",
       "      <td>Swiss voters are deciding whether they want to...</td>\n",
       "      <td>Government News</td>\n",
       "      <td>Jun 5, 2016</td>\n",
       "      <td>0</td>\n",
       "    </tr>\n",
       "    <tr>\n",
       "      <th>4794</th>\n",
       "      <td>Trump tries to move past controversies, says h...</td>\n",
       "      <td>WASHINGTON (Reuters) - President Donald Trump ...</td>\n",
       "      <td>politicsNews</td>\n",
       "      <td>March 22, 2017</td>\n",
       "      <td>1</td>\n",
       "    </tr>\n",
       "    <tr>\n",
       "      <th>20326</th>\n",
       "      <td>Protest greets former Trump adviser Bannon at ...</td>\n",
       "      <td>HONG KONG (Reuters) - Protesters outside a lux...</td>\n",
       "      <td>worldnews</td>\n",
       "      <td>September 12, 2017</td>\n",
       "      <td>1</td>\n",
       "    </tr>\n",
       "    <tr>\n",
       "      <th>8376</th>\n",
       "      <td>Elizabeth Warren Has Some News As To Who She’...</td>\n",
       "      <td>If there s one person who is loved by all in t...</td>\n",
       "      <td>News</td>\n",
       "      <td>February 2, 2016</td>\n",
       "      <td>0</td>\n",
       "    </tr>\n",
       "    <tr>\n",
       "      <th>12037</th>\n",
       "      <td>Voting to elect president of South Africa’s AN...</td>\n",
       "      <td>JOHANNESBURG (Reuters) - Voting for the new le...</td>\n",
       "      <td>worldnews</td>\n",
       "      <td>December 18, 2017</td>\n",
       "      <td>1</td>\n",
       "    </tr>\n",
       "    <tr>\n",
       "      <th>57</th>\n",
       "      <td>U.S. lawmakers seek temporarily extension to i...</td>\n",
       "      <td>WASHINGTON (Reuters) - Republican leaders in t...</td>\n",
       "      <td>politicsNews</td>\n",
       "      <td>December 21, 2017</td>\n",
       "      <td>1</td>\n",
       "    </tr>\n",
       "    <tr>\n",
       "      <th>21961</th>\n",
       "      <td>MORE QUESTIONS THAN ANSWERS: Was Sandy Hook Sh...</td>\n",
       "      <td>21st Century wire says The FBI recently releas...</td>\n",
       "      <td>US_News</td>\n",
       "      <td>October 25, 2017</td>\n",
       "      <td>0</td>\n",
       "    </tr>\n",
       "    <tr>\n",
       "      <th>473</th>\n",
       "      <td>Sicko In Texas Wants To Make A Buck Off Harve...</td>\n",
       "      <td>Late Monday night, CNN s Don Lemon had a phone...</td>\n",
       "      <td>News</td>\n",
       "      <td>August 29, 2017</td>\n",
       "      <td>0</td>\n",
       "    </tr>\n",
       "    <tr>\n",
       "      <th>15930</th>\n",
       "      <td>UNREAL! RIGHT BEFORE MASSACRE…#LasVegas Concer...</td>\n",
       "      <td>Just before the gunman began shooting, the Las...</td>\n",
       "      <td>Government News</td>\n",
       "      <td>Oct 2, 2017</td>\n",
       "      <td>0</td>\n",
       "    </tr>\n",
       "    <tr>\n",
       "      <th>3286</th>\n",
       "      <td>Netanyahu Whines About U.N. Resolution, Refus...</td>\n",
       "      <td>Israeli Prime Minister Benjamin Netanyahu thre...</td>\n",
       "      <td>News</td>\n",
       "      <td>December 23, 2016</td>\n",
       "      <td>0</td>\n",
       "    </tr>\n",
       "  </tbody>\n",
       "</table>\n",
       "</div>"
      ],
      "text/plain": [
       "                                                   title  \\\n",
       "15809  MUST WATCH VIDEO: LISTEN TO OBAMA AND HIS COMM...   \n",
       "12629  After Brexit, UK aims for trade deal with EU t...   \n",
       "12265  Watchdog says Gulf rift taking toll on ordinar...   \n",
       "9133   House votes to protect 'dark money' political ...   \n",
       "21332  ADMINISTRATORS FACE BACKLASH After Florida Mid...   \n",
       "16576  NATIONAL SALARY? This Crazy Country Ready To V...   \n",
       "4794   Trump tries to move past controversies, says h...   \n",
       "20326  Protest greets former Trump adviser Bannon at ...   \n",
       "8376    Elizabeth Warren Has Some News As To Who She’...   \n",
       "12037  Voting to elect president of South Africa’s AN...   \n",
       "57     U.S. lawmakers seek temporarily extension to i...   \n",
       "21961  MORE QUESTIONS THAN ANSWERS: Was Sandy Hook Sh...   \n",
       "473     Sicko In Texas Wants To Make A Buck Off Harve...   \n",
       "15930  UNREAL! RIGHT BEFORE MASSACRE…#LasVegas Concer...   \n",
       "3286    Netanyahu Whines About U.N. Resolution, Refus...   \n",
       "\n",
       "                                                    text          subject  \\\n",
       "15809  OBAMA SPEAKS ABOUT FRANK AND HIS MENTOR WHO SC...         politics   \n",
       "12629  LONDON (Reuters) - Britain is aiming to secure...        worldnews   \n",
       "12265  DUBAI (Reuters) - Families are being torn apar...        worldnews   \n",
       "9133   WASHINGTON (Reuters) - The Republican-controll...     politicsNews   \n",
       "21332   We didn t mean to send a negative message. We...        left-news   \n",
       "16576  Swiss voters are deciding whether they want to...  Government News   \n",
       "4794   WASHINGTON (Reuters) - President Donald Trump ...     politicsNews   \n",
       "20326  HONG KONG (Reuters) - Protesters outside a lux...        worldnews   \n",
       "8376   If there s one person who is loved by all in t...             News   \n",
       "12037  JOHANNESBURG (Reuters) - Voting for the new le...        worldnews   \n",
       "57     WASHINGTON (Reuters) - Republican leaders in t...     politicsNews   \n",
       "21961  21st Century wire says The FBI recently releas...          US_News   \n",
       "473    Late Monday night, CNN s Don Lemon had a phone...             News   \n",
       "15930  Just before the gunman began shooting, the Las...  Government News   \n",
       "3286   Israeli Prime Minister Benjamin Netanyahu thre...             News   \n",
       "\n",
       "                      date  class  \n",
       "15809         Apr 19, 2015      0  \n",
       "12629   December 10, 2017       1  \n",
       "12265   December 14, 2017       1  \n",
       "9133        June 14, 2016       1  \n",
       "21332         Nov 15, 2015      0  \n",
       "16576          Jun 5, 2016      0  \n",
       "4794       March 22, 2017       1  \n",
       "20326  September 12, 2017       1  \n",
       "8376      February 2, 2016      0  \n",
       "12037   December 18, 2017       1  \n",
       "57      December 21, 2017       1  \n",
       "21961     October 25, 2017      0  \n",
       "473        August 29, 2017      0  \n",
       "15930          Oct 2, 2017      0  \n",
       "3286     December 23, 2016      0  "
      ]
     },
     "execution_count": 16,
     "metadata": {},
     "output_type": "execute_result"
    }
   ],
   "source": [
    "df_merged.head(15)"
   ]
  },
  {
   "cell_type": "code",
   "execution_count": 17,
   "id": "eb04acb0",
   "metadata": {},
   "outputs": [],
   "source": [
    "df_merged.reset_index(inplace = True) #resettting the index of the dataset\n",
    "df_merged.drop([\"index\"], axis = 1, inplace = True)#dropping the old index of the dataset"
   ]
  },
  {
   "cell_type": "code",
   "execution_count": 18,
   "id": "f96704c2",
   "metadata": {},
   "outputs": [
    {
     "data": {
      "text/html": [
       "<div>\n",
       "<style scoped>\n",
       "    .dataframe tbody tr th:only-of-type {\n",
       "        vertical-align: middle;\n",
       "    }\n",
       "\n",
       "    .dataframe tbody tr th {\n",
       "        vertical-align: top;\n",
       "    }\n",
       "\n",
       "    .dataframe thead th {\n",
       "        text-align: right;\n",
       "    }\n",
       "</style>\n",
       "<table border=\"1\" class=\"dataframe\">\n",
       "  <thead>\n",
       "    <tr style=\"text-align: right;\">\n",
       "      <th></th>\n",
       "      <th>title</th>\n",
       "      <th>text</th>\n",
       "      <th>subject</th>\n",
       "      <th>date</th>\n",
       "      <th>class</th>\n",
       "    </tr>\n",
       "  </thead>\n",
       "  <tbody>\n",
       "    <tr>\n",
       "      <th>0</th>\n",
       "      <td>MUST WATCH VIDEO: LISTEN TO OBAMA AND HIS COMM...</td>\n",
       "      <td>OBAMA SPEAKS ABOUT FRANK AND HIS MENTOR WHO SC...</td>\n",
       "      <td>politics</td>\n",
       "      <td>Apr 19, 2015</td>\n",
       "      <td>0</td>\n",
       "    </tr>\n",
       "    <tr>\n",
       "      <th>1</th>\n",
       "      <td>After Brexit, UK aims for trade deal with EU t...</td>\n",
       "      <td>LONDON (Reuters) - Britain is aiming to secure...</td>\n",
       "      <td>worldnews</td>\n",
       "      <td>December 10, 2017</td>\n",
       "      <td>1</td>\n",
       "    </tr>\n",
       "    <tr>\n",
       "      <th>2</th>\n",
       "      <td>Watchdog says Gulf rift taking toll on ordinar...</td>\n",
       "      <td>DUBAI (Reuters) - Families are being torn apar...</td>\n",
       "      <td>worldnews</td>\n",
       "      <td>December 14, 2017</td>\n",
       "      <td>1</td>\n",
       "    </tr>\n",
       "    <tr>\n",
       "      <th>3</th>\n",
       "      <td>House votes to protect 'dark money' political ...</td>\n",
       "      <td>WASHINGTON (Reuters) - The Republican-controll...</td>\n",
       "      <td>politicsNews</td>\n",
       "      <td>June 14, 2016</td>\n",
       "      <td>1</td>\n",
       "    </tr>\n",
       "    <tr>\n",
       "      <th>4</th>\n",
       "      <td>ADMINISTRATORS FACE BACKLASH After Florida Mid...</td>\n",
       "      <td>We didn t mean to send a negative message. We...</td>\n",
       "      <td>left-news</td>\n",
       "      <td>Nov 15, 2015</td>\n",
       "      <td>0</td>\n",
       "    </tr>\n",
       "    <tr>\n",
       "      <th>5</th>\n",
       "      <td>NATIONAL SALARY? This Crazy Country Ready To V...</td>\n",
       "      <td>Swiss voters are deciding whether they want to...</td>\n",
       "      <td>Government News</td>\n",
       "      <td>Jun 5, 2016</td>\n",
       "      <td>0</td>\n",
       "    </tr>\n",
       "    <tr>\n",
       "      <th>6</th>\n",
       "      <td>Trump tries to move past controversies, says h...</td>\n",
       "      <td>WASHINGTON (Reuters) - President Donald Trump ...</td>\n",
       "      <td>politicsNews</td>\n",
       "      <td>March 22, 2017</td>\n",
       "      <td>1</td>\n",
       "    </tr>\n",
       "    <tr>\n",
       "      <th>7</th>\n",
       "      <td>Protest greets former Trump adviser Bannon at ...</td>\n",
       "      <td>HONG KONG (Reuters) - Protesters outside a lux...</td>\n",
       "      <td>worldnews</td>\n",
       "      <td>September 12, 2017</td>\n",
       "      <td>1</td>\n",
       "    </tr>\n",
       "    <tr>\n",
       "      <th>8</th>\n",
       "      <td>Elizabeth Warren Has Some News As To Who She’...</td>\n",
       "      <td>If there s one person who is loved by all in t...</td>\n",
       "      <td>News</td>\n",
       "      <td>February 2, 2016</td>\n",
       "      <td>0</td>\n",
       "    </tr>\n",
       "    <tr>\n",
       "      <th>9</th>\n",
       "      <td>Voting to elect president of South Africa’s AN...</td>\n",
       "      <td>JOHANNESBURG (Reuters) - Voting for the new le...</td>\n",
       "      <td>worldnews</td>\n",
       "      <td>December 18, 2017</td>\n",
       "      <td>1</td>\n",
       "    </tr>\n",
       "    <tr>\n",
       "      <th>10</th>\n",
       "      <td>U.S. lawmakers seek temporarily extension to i...</td>\n",
       "      <td>WASHINGTON (Reuters) - Republican leaders in t...</td>\n",
       "      <td>politicsNews</td>\n",
       "      <td>December 21, 2017</td>\n",
       "      <td>1</td>\n",
       "    </tr>\n",
       "    <tr>\n",
       "      <th>11</th>\n",
       "      <td>MORE QUESTIONS THAN ANSWERS: Was Sandy Hook Sh...</td>\n",
       "      <td>21st Century wire says The FBI recently releas...</td>\n",
       "      <td>US_News</td>\n",
       "      <td>October 25, 2017</td>\n",
       "      <td>0</td>\n",
       "    </tr>\n",
       "    <tr>\n",
       "      <th>12</th>\n",
       "      <td>Sicko In Texas Wants To Make A Buck Off Harve...</td>\n",
       "      <td>Late Monday night, CNN s Don Lemon had a phone...</td>\n",
       "      <td>News</td>\n",
       "      <td>August 29, 2017</td>\n",
       "      <td>0</td>\n",
       "    </tr>\n",
       "    <tr>\n",
       "      <th>13</th>\n",
       "      <td>UNREAL! RIGHT BEFORE MASSACRE…#LasVegas Concer...</td>\n",
       "      <td>Just before the gunman began shooting, the Las...</td>\n",
       "      <td>Government News</td>\n",
       "      <td>Oct 2, 2017</td>\n",
       "      <td>0</td>\n",
       "    </tr>\n",
       "    <tr>\n",
       "      <th>14</th>\n",
       "      <td>Netanyahu Whines About U.N. Resolution, Refus...</td>\n",
       "      <td>Israeli Prime Minister Benjamin Netanyahu thre...</td>\n",
       "      <td>News</td>\n",
       "      <td>December 23, 2016</td>\n",
       "      <td>0</td>\n",
       "    </tr>\n",
       "  </tbody>\n",
       "</table>\n",
       "</div>"
      ],
      "text/plain": [
       "                                                title  \\\n",
       "0   MUST WATCH VIDEO: LISTEN TO OBAMA AND HIS COMM...   \n",
       "1   After Brexit, UK aims for trade deal with EU t...   \n",
       "2   Watchdog says Gulf rift taking toll on ordinar...   \n",
       "3   House votes to protect 'dark money' political ...   \n",
       "4   ADMINISTRATORS FACE BACKLASH After Florida Mid...   \n",
       "5   NATIONAL SALARY? This Crazy Country Ready To V...   \n",
       "6   Trump tries to move past controversies, says h...   \n",
       "7   Protest greets former Trump adviser Bannon at ...   \n",
       "8    Elizabeth Warren Has Some News As To Who She’...   \n",
       "9   Voting to elect president of South Africa’s AN...   \n",
       "10  U.S. lawmakers seek temporarily extension to i...   \n",
       "11  MORE QUESTIONS THAN ANSWERS: Was Sandy Hook Sh...   \n",
       "12   Sicko In Texas Wants To Make A Buck Off Harve...   \n",
       "13  UNREAL! RIGHT BEFORE MASSACRE…#LasVegas Concer...   \n",
       "14   Netanyahu Whines About U.N. Resolution, Refus...   \n",
       "\n",
       "                                                 text          subject  \\\n",
       "0   OBAMA SPEAKS ABOUT FRANK AND HIS MENTOR WHO SC...         politics   \n",
       "1   LONDON (Reuters) - Britain is aiming to secure...        worldnews   \n",
       "2   DUBAI (Reuters) - Families are being torn apar...        worldnews   \n",
       "3   WASHINGTON (Reuters) - The Republican-controll...     politicsNews   \n",
       "4    We didn t mean to send a negative message. We...        left-news   \n",
       "5   Swiss voters are deciding whether they want to...  Government News   \n",
       "6   WASHINGTON (Reuters) - President Donald Trump ...     politicsNews   \n",
       "7   HONG KONG (Reuters) - Protesters outside a lux...        worldnews   \n",
       "8   If there s one person who is loved by all in t...             News   \n",
       "9   JOHANNESBURG (Reuters) - Voting for the new le...        worldnews   \n",
       "10  WASHINGTON (Reuters) - Republican leaders in t...     politicsNews   \n",
       "11  21st Century wire says The FBI recently releas...          US_News   \n",
       "12  Late Monday night, CNN s Don Lemon had a phone...             News   \n",
       "13  Just before the gunman began shooting, the Las...  Government News   \n",
       "14  Israeli Prime Minister Benjamin Netanyahu thre...             News   \n",
       "\n",
       "                   date  class  \n",
       "0          Apr 19, 2015      0  \n",
       "1    December 10, 2017       1  \n",
       "2    December 14, 2017       1  \n",
       "3        June 14, 2016       1  \n",
       "4          Nov 15, 2015      0  \n",
       "5           Jun 5, 2016      0  \n",
       "6       March 22, 2017       1  \n",
       "7   September 12, 2017       1  \n",
       "8      February 2, 2016      0  \n",
       "9    December 18, 2017       1  \n",
       "10   December 21, 2017       1  \n",
       "11     October 25, 2017      0  \n",
       "12      August 29, 2017      0  \n",
       "13          Oct 2, 2017      0  \n",
       "14    December 23, 2016      0  "
      ]
     },
     "execution_count": 18,
     "metadata": {},
     "output_type": "execute_result"
    }
   ],
   "source": [
    "df_merged.head(15)"
   ]
  },
  {
   "cell_type": "code",
   "execution_count": 19,
   "id": "daa38052",
   "metadata": {},
   "outputs": [
    {
     "data": {
      "text/plain": [
       "(44898, 5)"
      ]
     },
     "execution_count": 19,
     "metadata": {},
     "output_type": "execute_result"
    }
   ],
   "source": [
    "df_merged.shape"
   ]
  },
  {
   "cell_type": "code",
   "execution_count": 20,
   "id": "0f5cafc8",
   "metadata": {},
   "outputs": [],
   "source": [
    "manual_test_df = df_merged.tail(20) #storing the last 20 rows in a new variable"
   ]
  },
  {
   "cell_type": "code",
   "execution_count": 21,
   "id": "d931f4e8",
   "metadata": {},
   "outputs": [],
   "source": [
    "manual_test_df.to_csv('manual_test_dataset.csv') #storing the dataset as a csv"
   ]
  },
  {
   "cell_type": "code",
   "execution_count": 22,
   "id": "77b76d4b",
   "metadata": {},
   "outputs": [],
   "source": [
    "df_merged.drop(df_merged.tail(20).index,inplace = True) #dropping the last 20 rows from our orignal dataset"
   ]
  },
  {
   "cell_type": "code",
   "execution_count": 23,
   "id": "6f2219db",
   "metadata": {},
   "outputs": [
    {
     "data": {
      "text/plain": [
       "(44878, 5)"
      ]
     },
     "execution_count": 23,
     "metadata": {},
     "output_type": "execute_result"
    }
   ],
   "source": [
    "df_merged.shape #checking the new shape of our dataset"
   ]
  },
  {
   "cell_type": "code",
   "execution_count": 24,
   "id": "b56f3f1f",
   "metadata": {},
   "outputs": [
    {
     "data": {
      "text/plain": [
       "0    23471\n",
       "1    21407\n",
       "Name: class, dtype: int64"
      ]
     },
     "execution_count": 24,
     "metadata": {},
     "output_type": "execute_result"
    }
   ],
   "source": [
    "df_merged['class'].value_counts()"
   ]
  },
  {
   "cell_type": "code",
   "execution_count": 25,
   "id": "72d66dde",
   "metadata": {},
   "outputs": [],
   "source": [
    "df_copy = df_merged.copy(deep = True) #COPY OF DATASET WITHOUT TOKINIZATION OR STEMMING"
   ]
  },
  {
   "cell_type": "markdown",
   "id": "f30833c8",
   "metadata": {},
   "source": [
    "##### Data Preprocessing"
   ]
  },
  {
   "cell_type": "code",
   "execution_count": 26,
   "id": "ed25b6e2",
   "metadata": {},
   "outputs": [],
   "source": [
    "def wordopt(text):\n",
    "    text = text.lower() #change text to lower  case\n",
    "    text = re.sub('\\[.*?\\]', '', text) #remove all regex in the square box\n",
    "    text = re.sub('https?://\\S+|www\\.\\S+', '', text)#removes web addresses starting with https or www\n",
    "    text = re.sub('\\n', '', text) #removes all tab or new lines\n",
    "    text = re.sub('[^a-zA-Z]',' ',text)#remove all strings that contains non letters\n",
    "    return text"
   ]
  },
  {
   "cell_type": "code",
   "execution_count": 27,
   "id": "f3f22430",
   "metadata": {},
   "outputs": [],
   "source": [
    "df_merged[\"text\"] = df_merged[\"text\"].apply(wordopt)"
   ]
  },
  {
   "cell_type": "code",
   "execution_count": 28,
   "id": "97ae8324",
   "metadata": {
    "scrolled": true
   },
   "outputs": [
    {
     "name": "stdout",
     "output_type": "stream",
     "text": [
      "0        obama speaks about frank and his mentor who sc...\n",
      "1        london  reuters    britain is aiming to secure...\n",
      "2        dubai  reuters    families are being torn apar...\n",
      "3        washington  reuters    the republican controll...\n",
      "4         we didn t mean to send a negative message  we...\n",
      "                               ...                        \n",
      "44873    unfortunately  our troops have been affected m...\n",
      "44874    tallahassee  fla   reuters    florida lawmaker...\n",
      "44875    washington  reuters    u s  president barack o...\n",
      "44876    a four year old iowa boy died as the result of...\n",
      "44877    jerusalem  reuters    israeli prime minister b...\n",
      "Name: text, Length: 44878, dtype: object\n"
     ]
    }
   ],
   "source": [
    "print(df_merged['text'])"
   ]
  },
  {
   "cell_type": "markdown",
   "id": "b31dae73",
   "metadata": {},
   "source": [
    "##### Tokenization: splitting sentence into words"
   ]
  },
  {
   "cell_type": "code",
   "execution_count": 29,
   "id": "044e8d20",
   "metadata": {},
   "outputs": [],
   "source": [
    "from nltk.tokenize import word_tokenize"
   ]
  },
  {
   "cell_type": "code",
   "execution_count": 30,
   "id": "c815dd3b",
   "metadata": {},
   "outputs": [],
   "source": [
    "df_merged['text'] = df_merged['text'].apply(word_tokenize)"
   ]
  },
  {
   "cell_type": "code",
   "execution_count": 31,
   "id": "e8420984",
   "metadata": {},
   "outputs": [
    {
     "name": "stdout",
     "output_type": "stream",
     "text": [
      "0        [obama, speaks, about, frank, and, his, mentor...\n",
      "1        [london, reuters, britain, is, aiming, to, sec...\n",
      "2        [dubai, reuters, families, are, being, torn, a...\n",
      "3        [washington, reuters, the, republican, control...\n",
      "4        [we, didn, t, mean, to, send, a, negative, mes...\n",
      "                               ...                        \n",
      "44873    [unfortunately, our, troops, have, been, affec...\n",
      "44874    [tallahassee, fla, reuters, florida, lawmakers...\n",
      "44875    [washington, reuters, u, s, president, barack,...\n",
      "44876    [a, four, year, old, iowa, boy, died, as, the,...\n",
      "44877    [jerusalem, reuters, israeli, prime, minister,...\n",
      "Name: text, Length: 44878, dtype: object\n"
     ]
    }
   ],
   "source": [
    "print(df_merged['text'])"
   ]
  },
  {
   "cell_type": "markdown",
   "id": "9070c0a9",
   "metadata": {},
   "source": [
    "##### Stop Word Removal"
   ]
  },
  {
   "cell_type": "code",
   "execution_count": 32,
   "id": "26919669",
   "metadata": {},
   "outputs": [],
   "source": [
    "df_merged['text'] = df_merged['text'].apply(lambda x:[item for item in x if item not in STOPWORDS])"
   ]
  },
  {
   "cell_type": "code",
   "execution_count": 33,
   "id": "c4c21a53",
   "metadata": {
    "scrolled": true
   },
   "outputs": [
    {
     "name": "stdout",
     "output_type": "stream",
     "text": [
      "0        [obama, speaks, frank, mentor, schooled, white...\n",
      "1        [london, reuters, britain, aiming, secure, com...\n",
      "2        [dubai, reuters, families, torn, apart, rift, ...\n",
      "3        [washington, reuters, republican, controlled, ...\n",
      "4        [mean, send, negative, message, wanted, positi...\n",
      "                               ...                        \n",
      "44873    [unfortunately, troops, affected, ignorance, a...\n",
      "44874    [tallahassee, fla, reuters, florida, lawmakers...\n",
      "44875    [washington, reuters, u, president, barack, ob...\n",
      "44876    [four, year, old, iowa, boy, died, result, gun...\n",
      "44877    [jerusalem, reuters, israeli, prime, minister,...\n",
      "Name: text, Length: 44878, dtype: object\n"
     ]
    }
   ],
   "source": [
    "print(df_merged['text'])"
   ]
  },
  {
   "cell_type": "markdown",
   "id": "12637436",
   "metadata": {},
   "source": [
    "##### Stemming"
   ]
  },
  {
   "cell_type": "code",
   "execution_count": 34,
   "id": "43dbc4f7",
   "metadata": {},
   "outputs": [],
   "source": [
    "ps = PorterStemmer()"
   ]
  },
  {
   "cell_type": "code",
   "execution_count": 35,
   "id": "ea952e54",
   "metadata": {},
   "outputs": [],
   "source": [
    "def stemming(tokinized_text):\n",
    "    text = [ps.stem(word) for word in tokinized_text]\n",
    "    return text"
   ]
  },
  {
   "cell_type": "code",
   "execution_count": 37,
   "id": "3dfceaf1",
   "metadata": {},
   "outputs": [],
   "source": [
    "df_merged['text'] = df_merged['text'].apply(lambda x: stemming(x))"
   ]
  },
  {
   "cell_type": "code",
   "execution_count": 38,
   "id": "3c457994",
   "metadata": {},
   "outputs": [
    {
     "name": "stdout",
     "output_type": "stream",
     "text": [
      "0        [obama, speak, frank, mentor, school, white, r...\n",
      "1        [london, reuter, britain, aim, secur, comprehe...\n",
      "2        [dubai, reuter, famili, torn, apart, rift, qat...\n",
      "3        [washington, reuter, republican, control, u, h...\n",
      "4        [mean, send, neg, messag, want, posit, yeah, t...\n",
      "                               ...                        \n",
      "44873    [unfortun, troop, affect, ignor, american, vot...\n",
      "44874    [tallahasse, fla, reuter, florida, lawmak, wed...\n",
      "44875    [washington, reuter, u, presid, barack, obama,...\n",
      "44876    [four, year, old, iowa, boy, die, result, guns...\n",
      "44877    [jerusalem, reuter, isra, prime, minist, benja...\n",
      "Name: text, Length: 44878, dtype: object\n"
     ]
    }
   ],
   "source": [
    "print(df_merged['text'])"
   ]
  },
  {
   "cell_type": "code",
   "execution_count": 39,
   "id": "e90d1fe9",
   "metadata": {},
   "outputs": [],
   "source": [
    "df_merged['text'] = df_merged['text'].astype(str)"
   ]
  },
  {
   "cell_type": "code",
   "execution_count": 41,
   "id": "b00a76ec",
   "metadata": {},
   "outputs": [
    {
     "name": "stdout",
     "output_type": "stream",
     "text": [
      "0        ['obama', 'speak', 'frank', 'mentor', 'school'...\n",
      "1        ['london', 'reuter', 'britain', 'aim', 'secur'...\n",
      "2        ['dubai', 'reuter', 'famili', 'torn', 'apart',...\n",
      "3        ['washington', 'reuter', 'republican', 'contro...\n",
      "4        ['mean', 'send', 'neg', 'messag', 'want', 'pos...\n",
      "                               ...                        \n",
      "44873    ['unfortun', 'troop', 'affect', 'ignor', 'amer...\n",
      "44874    ['tallahasse', 'fla', 'reuter', 'florida', 'la...\n",
      "44875    ['washington', 'reuter', 'u', 'presid', 'barac...\n",
      "44876    ['four', 'year', 'old', 'iowa', 'boy', 'die', ...\n",
      "44877    ['jerusalem', 'reuter', 'isra', 'prime', 'mini...\n",
      "Name: text, Length: 44878, dtype: object\n"
     ]
    }
   ],
   "source": [
    "print(df_merged['text'])"
   ]
  },
  {
   "cell_type": "markdown",
   "id": "2ac159ce",
   "metadata": {},
   "source": [
    "#### DATA EXPLORATION/VISUALIZATION"
   ]
  },
  {
   "cell_type": "code",
   "execution_count": null,
   "id": "9e8a943f",
   "metadata": {},
   "outputs": [],
   "source": []
  }
 ],
 "metadata": {
  "kernelspec": {
   "display_name": "Python 3 (ipykernel)",
   "language": "python",
   "name": "python3"
  },
  "language_info": {
   "codemirror_mode": {
    "name": "ipython",
    "version": 3
   },
   "file_extension": ".py",
   "mimetype": "text/x-python",
   "name": "python",
   "nbconvert_exporter": "python",
   "pygments_lexer": "ipython3",
   "version": "3.9.7"
  }
 },
 "nbformat": 4,
 "nbformat_minor": 5
}
